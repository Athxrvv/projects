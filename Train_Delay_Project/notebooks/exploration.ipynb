{
 "cells": [
  {
   "cell_type": "code",
   "execution_count": 7,
   "id": "eafca8ad",
   "metadata": {},
   "outputs": [
    {
     "name": "stdout",
     "output_type": "stream",
     "text": [
      "rows: 100\n",
      "missing per column:\n",
      " Train_id         0\n",
      "Train_name       0\n",
      "Train_no         0\n",
      "Source           0\n",
      "Destination      0\n",
      "Date             0\n",
      "Distance(Km)     0\n",
      "Sch_arr_time     0\n",
      "Act_arr_time     0\n",
      "Delay_min        1\n",
      "Season           0\n",
      "Run_frequency    0\n",
      "dtype: int64\n",
      "duplicates: 0\n"
     ]
    },
    {
     "name": "stderr",
     "output_type": "stream",
     "text": [
      "C:\\Users\\vishw\\AppData\\Local\\Temp\\ipykernel_6240\\2403309172.py:28: UserWarning: Could not infer format, so each element will be parsed individually, falling back to `dateutil`. To ensure parsing is consistent and as-expected, please specify a format.\n",
      "  df['Sch_arr_hour'] = pd.to_datetime(df['Sch_arr_time'], errors='coerce').dt.hour\n"
     ]
    }
   ],
   "source": [
    "import pandas as pd\n",
    "df = pd.read_csv(\"C:\\\\Users\\\\vishw\\\\OneDrive\\\\Documents\\\\Desktop\\\\project_train_delay\\\\data\\\\indian_railway_delay_data_.csv\")\n",
    "\n",
    "# 1. Rename columns\n",
    "df = df.rename(columns={\n",
    "    \"Destitnation\": \"Destination\",\n",
    "    \"Dealy_min\": \"Delay_min\",\n",
    "    \"Sc_arr__time\": \"Sch_arr_time\",\n",
    "    # adjust any other typos\n",
    "})\n",
    "\n",
    "# 2. Parse dates & times\n",
    "df['Date'] = pd.to_datetime(df['Date'], errors='coerce')\n",
    "\n",
    "# 3. Convert Delay (hh:mm:ss) → minutes (robust)\n",
    "df['Delay_min'] = pd.to_timedelta(df['Delay_min'], errors='coerce').dt.total_seconds() / 60\n",
    "\n",
    "# 4. Basic checks\n",
    "print(\"rows:\", len(df))\n",
    "print(\"missing per column:\\n\", df.isna().sum())\n",
    "print(\"duplicates:\", df.duplicated().sum())\n",
    "\n",
    "# 5. Extract useful features\n",
    "df['Year'] = df['Date'].dt.year\n",
    "df['Month'] = df['Date'].dt.month\n",
    "df['Weekday'] = df['Date'].dt.day_name()\n",
    "# Scheduled hour if you have scheduled time column:\n",
    "df['Sch_arr_hour'] = pd.to_datetime(df['Sch_arr_time'], errors='coerce').dt.hour\n"
   ]
  },
  {
   "cell_type": "code",
   "execution_count": 8,
   "id": "17affc0b",
   "metadata": {},
   "outputs": [
    {
     "name": "stderr",
     "output_type": "stream",
     "text": [
      "C:\\Users\\vishw\\AppData\\Local\\Temp\\ipykernel_6240\\3784950119.py:4: UserWarning: Could not infer format, so each element will be parsed individually, falling back to `dateutil`. To ensure parsing is consistent and as-expected, please specify a format.\n",
      "  df['Sch_arr_hour'] = pd.to_datetime(df['Sch_arr_time'], errors='coerce').dt.hour\n"
     ]
    }
   ],
   "source": [
    "df['Date'] = pd.to_datetime(df['Date'], errors='coerce')\n",
    "df['Delay_min'] = pd.to_numeric(df['Delay_min'], errors='coerce')\n",
    "df['Delay_min'] = df['Delay_min'].fillna(0)\n",
    "df['Sch_arr_hour'] = pd.to_datetime(df['Sch_arr_time'], errors='coerce').dt.hour\n"
   ]
  },
  {
   "cell_type": "code",
   "execution_count": 9,
   "id": "e439a37e",
   "metadata": {},
   "outputs": [
    {
     "data": {
      "text/plain": [
       "array(['06:30:00', '10:00:00', '09:00:00', '08:00:00', '06:00:00',\n",
       "       '17:20:00', '01-01-1900 17:20', '04:30:00', '19:25:00',\n",
       "       '01-01-1900 19:25'], dtype=object)"
      ]
     },
     "execution_count": 9,
     "metadata": {},
     "output_type": "execute_result"
    }
   ],
   "source": [
    "df['Sch_arr_time'].unique()[:10]\n"
   ]
  },
  {
   "cell_type": "code",
   "execution_count": 11,
   "id": "90c67e98",
   "metadata": {},
   "outputs": [],
   "source": [
    "import pandas as pd\n",
    "# Convert everything to datetime, let pandas parse automatically\n",
    "df['Sch_arr_time'] = pd.to_datetime(df['Sch_arr_time'], errors='coerce')\n",
    "\n",
    "# Extract hour only\n",
    "df['Sch_arr_hour'] = df['Sch_arr_time'].dt.hour\n",
    "df['Sch_arr_minute'] = df['Sch_arr_time'].dt.minute"
   ]
  },
  {
   "cell_type": "code",
   "execution_count": 14,
   "id": "01590fe7",
   "metadata": {},
   "outputs": [
    {
     "name": "stdout",
     "output_type": "stream",
     "text": [
      "         Sch_arr_time        Act_arr_time  Delay_min  Calc_delay_min\n",
      "0 1900-01-01 06:30:00 1900-01-01 07:45:00       75.0            75.0\n",
      "1 1900-01-01 06:30:00 1900-01-01 06:50:00       20.0            20.0\n",
      "2 1900-01-01 06:30:00 1900-01-01 08:00:00       90.0            90.0\n",
      "3 1900-01-01 06:30:00 1900-01-01 06:40:00       10.0            10.0\n",
      "4 1900-01-01 06:30:00 1900-01-01 07:00:00       30.0            30.0\n",
      "5 1900-01-01 06:30:00 1900-01-01 06:35:00        5.0             5.0\n",
      "6 1900-01-01 06:30:00 1900-01-01 07:10:00       40.0            40.0\n",
      "7 1900-01-01 06:30:00 1900-01-01 08:00:00       90.0            90.0\n",
      "8 1900-01-01 06:30:00 1900-01-01 06:45:00       15.0            15.0\n",
      "9 1900-01-01 06:30:00 1900-01-01 07:20:00       50.0            50.0\n"
     ]
    }
   ],
   "source": [
    "import pandas as pd\n",
    "\n",
    "# Convert both columns to datetime (handle mixed formats)\n",
    "df['Sch_arr_time'] = pd.to_datetime(df['Sch_arr_time'], errors='coerce')\n",
    "df['Act_arr_time'] = pd.to_datetime(df['Act_arr_time'], errors='coerce')\n",
    "\n",
    "# Extract hour and minute\n",
    "df['Sch_arr_hour'] = df['Sch_arr_time'].dt.hour\n",
    "df['Sch_arr_minute'] = df['Sch_arr_time'].dt.minute\n",
    "\n",
    "df['Act_arr_hour'] = df['Act_arr_time'].dt.hour\n",
    "df['Act_arr_minute'] = df['Act_arr_time'].dt.minute\n",
    "\n",
    "# ✅ Calculate delay (in minutes) directly from time difference\n",
    "df['Calc_delay_min'] = (df['Act_arr_time'] - df['Sch_arr_time']).dt.total_seconds() / 60\n",
    "\n",
    "# Replace negatives (if any train reached early) with 0\n",
    "df['Calc_delay_min'] = df['Calc_delay_min'].clip(lower=0)\n",
    "\n",
    "# Preview\n",
    "print(df[['Sch_arr_time','Act_arr_time','Delay_min','Calc_delay_min']].head(10))\n"
   ]
  },
  {
   "cell_type": "code",
   "execution_count": 13,
   "id": "745adf0e",
   "metadata": {},
   "outputs": [],
   "source": [
    "# Pehle string banalo\n",
    "df['Sch_arr_time'] = df['Sch_arr_time'].astype(str).str.extract(r'(\\d{1,2}:\\d{2}:\\d{2})')[0]\n",
    "df['Act_arr_time'] = df['Act_arr_time'].astype(str).str.extract(r'(\\d{1,2}:\\d{2}:\\d{2})')[0]\n",
    "\n",
    "# Ab proper datetime banao\n",
    "df['Sch_arr_time'] = pd.to_datetime(df['Sch_arr_time'], format='%H:%M:%S', errors='coerce')\n",
    "df['Act_arr_time'] = pd.to_datetime(df['Act_arr_time'], format='%H:%M:%S', errors='coerce')\n"
   ]
  },
  {
   "cell_type": "code",
   "execution_count": 16,
   "id": "e6ee51ad",
   "metadata": {},
   "outputs": [
    {
     "name": "stdout",
     "output_type": "stream",
     "text": [
      "Collecting matplotlib\n",
      "  Downloading matplotlib-3.10.6-cp311-cp311-win_amd64.whl (8.1 MB)\n",
      "                                              0.0/8.1 MB ? eta -:--:--\n",
      "                                              0.0/8.1 MB ? eta -:--:--\n",
      "                                              0.0/8.1 MB ? eta -:--:--\n",
      "                                              0.0/8.1 MB ? eta -:--:--\n",
      "                                              0.0/8.1 MB ? eta -:--:--\n",
      "                                              0.1/8.1 MB 403.5 kB/s eta 0:00:20\n",
      "                                              0.1/8.1 MB 423.5 kB/s eta 0:00:19\n",
      "     -                                        0.2/8.1 MB 687.0 kB/s eta 0:00:12\n",
      "     -                                        0.4/8.1 MB 1.1 MB/s eta 0:00:08\n",
      "     --                                       0.5/8.1 MB 1.3 MB/s eta 0:00:06\n",
      "     ---                                      0.7/8.1 MB 1.5 MB/s eta 0:00:05\n",
      "     ---                                      0.8/8.1 MB 1.6 MB/s eta 0:00:05\n",
      "     ----                                     1.0/8.1 MB 1.8 MB/s eta 0:00:05\n",
      "     -----                                    1.1/8.1 MB 1.9 MB/s eta 0:00:04\n",
      "     ------                                   1.3/8.1 MB 2.0 MB/s eta 0:00:04\n",
      "     -------                                  1.5/8.1 MB 2.2 MB/s eta 0:00:04\n",
      "     --------                                 1.6/8.1 MB 2.2 MB/s eta 0:00:03\n",
      "     ---------                                1.9/8.1 MB 2.5 MB/s eta 0:00:03\n",
      "     ----------                               2.1/8.1 MB 2.5 MB/s eta 0:00:03\n",
      "     -----------                              2.4/8.1 MB 2.7 MB/s eta 0:00:03\n",
      "     ------------                             2.6/8.1 MB 2.8 MB/s eta 0:00:02\n",
      "     -------------                            2.8/8.1 MB 2.9 MB/s eta 0:00:02\n",
      "     --------------                           3.0/8.1 MB 3.0 MB/s eta 0:00:02\n",
      "     ----------------                         3.3/8.1 MB 3.1 MB/s eta 0:00:02\n",
      "     -----------------                        3.6/8.1 MB 3.2 MB/s eta 0:00:02\n",
      "     -------------------                      3.9/8.1 MB 3.3 MB/s eta 0:00:02\n",
      "     --------------------                     4.2/8.1 MB 3.5 MB/s eta 0:00:02\n",
      "     ----------------------                   4.5/8.1 MB 3.6 MB/s eta 0:00:02\n",
      "     -----------------------                  4.8/8.1 MB 3.7 MB/s eta 0:00:01\n",
      "     ------------------------                 5.0/8.1 MB 3.7 MB/s eta 0:00:01\n",
      "     --------------------------               5.3/8.1 MB 3.8 MB/s eta 0:00:01\n",
      "     ---------------------------              5.6/8.1 MB 3.9 MB/s eta 0:00:01\n",
      "     -----------------------------            6.0/8.1 MB 4.0 MB/s eta 0:00:01\n",
      "     -------------------------------          6.4/8.1 MB 4.1 MB/s eta 0:00:01\n",
      "     --------------------------------         6.7/8.1 MB 4.2 MB/s eta 0:00:01\n",
      "     ----------------------------------       7.0/8.1 MB 4.2 MB/s eta 0:00:01\n",
      "     ------------------------------------     7.3/8.1 MB 4.3 MB/s eta 0:00:01\n",
      "     -------------------------------------    7.7/8.1 MB 4.4 MB/s eta 0:00:01\n",
      "     ---------------------------------------  8.0/8.1 MB 4.5 MB/s eta 0:00:01\n",
      "     ---------------------------------------  8.1/8.1 MB 4.5 MB/s eta 0:00:01\n",
      "     ---------------------------------------- 8.1/8.1 MB 4.3 MB/s eta 0:00:00\n",
      "Collecting seaborn\n",
      "  Downloading seaborn-0.13.2-py3-none-any.whl (294 kB)\n",
      "                                              0.0/294.9 kB ? eta -:--:--\n",
      "     -----------------------------------   286.7/294.9 kB 17.3 MB/s eta 0:00:01\n",
      "     -------------------------------------- 294.9/294.9 kB 6.1 MB/s eta 0:00:00\n",
      "Collecting contourpy>=1.0.1 (from matplotlib)\n",
      "  Downloading contourpy-1.3.3-cp311-cp311-win_amd64.whl (225 kB)\n",
      "                                              0.0/225.2 kB ? eta -:--:--\n",
      "     -------------------------------------- 225.2/225.2 kB 6.9 MB/s eta 0:00:00\n",
      "Collecting cycler>=0.10 (from matplotlib)\n",
      "  Downloading cycler-0.12.1-py3-none-any.whl (8.3 kB)\n",
      "Collecting fonttools>=4.22.0 (from matplotlib)\n",
      "  Downloading fonttools-4.59.2-cp311-cp311-win_amd64.whl (2.3 MB)\n",
      "                                              0.0/2.3 MB ? eta -:--:--\n",
      "     ----                                     0.3/2.3 MB 8.0 MB/s eta 0:00:01\n",
      "     -----------                              0.6/2.3 MB 7.9 MB/s eta 0:00:01\n",
      "     ---------------                          0.9/2.3 MB 7.0 MB/s eta 0:00:01\n",
      "     ---------------------                    1.2/2.3 MB 7.0 MB/s eta 0:00:01\n",
      "     ------------------------                 1.4/2.3 MB 6.4 MB/s eta 0:00:01\n",
      "     ------------------------------           1.8/2.3 MB 6.5 MB/s eta 0:00:01\n",
      "     ------------------------------------     2.1/2.3 MB 6.6 MB/s eta 0:00:01\n",
      "     ---------------------------------------  2.3/2.3 MB 6.3 MB/s eta 0:00:01\n",
      "     ---------------------------------------  2.3/2.3 MB 6.3 MB/s eta 0:00:01\n",
      "     ---------------------------------------  2.3/2.3 MB 6.3 MB/s eta 0:00:01\n",
      "     ---------------------------------------  2.3/2.3 MB 6.3 MB/s eta 0:00:01\n",
      "     ---------------------------------------- 2.3/2.3 MB 4.4 MB/s eta 0:00:00\n",
      "Collecting kiwisolver>=1.3.1 (from matplotlib)\n",
      "  Downloading kiwisolver-1.4.9-cp311-cp311-win_amd64.whl (73 kB)\n",
      "                                              0.0/73.8 kB ? eta -:--:--\n",
      "     ---------------------------------------- 73.8/73.8 kB 4.2 MB/s eta 0:00:00\n",
      "Requirement already satisfied: numpy>=1.23 in c:\\users\\vishw\\appdata\\local\\programs\\python\\python311\\lib\\site-packages (from matplotlib) (1.24.3)\n",
      "Requirement already satisfied: packaging>=20.0 in c:\\users\\vishw\\appdata\\local\\programs\\python\\python311\\lib\\site-packages (from matplotlib) (23.1)\n",
      "Collecting pillow>=8 (from matplotlib)\n",
      "  Downloading pillow-11.3.0-cp311-cp311-win_amd64.whl (7.0 MB)\n",
      "                                              0.0/7.0 MB ? eta -:--:--\n",
      "     -                                        0.3/7.0 MB 7.0 MB/s eta 0:00:01\n",
      "     ---                                      0.7/7.0 MB 7.1 MB/s eta 0:00:01\n",
      "     -----                                    1.0/7.0 MB 6.8 MB/s eta 0:00:01\n",
      "     -------                                  1.3/7.0 MB 6.9 MB/s eta 0:00:01\n",
      "     ---------                                1.7/7.0 MB 7.1 MB/s eta 0:00:01\n",
      "     ------------                             2.2/7.0 MB 6.8 MB/s eta 0:00:01\n",
      "     ---------------                          2.7/7.0 MB 6.9 MB/s eta 0:00:01\n",
      "     -----------------                        3.0/7.0 MB 6.8 MB/s eta 0:00:01\n",
      "     ------------------                       3.3/7.0 MB 7.0 MB/s eta 0:00:01\n",
      "     ---------------------                    3.7/7.0 MB 6.7 MB/s eta 0:00:01\n",
      "     ----------------------                   4.0/7.0 MB 6.9 MB/s eta 0:00:01\n",
      "     ------------------------                 4.3/7.0 MB 6.9 MB/s eta 0:00:01\n",
      "     --------------------------               4.7/7.0 MB 6.9 MB/s eta 0:00:01\n",
      "     ----------------------------             5.0/7.0 MB 6.8 MB/s eta 0:00:01\n",
      "     ------------------------------           5.3/7.0 MB 6.8 MB/s eta 0:00:01\n",
      "     --------------------------------         5.6/7.0 MB 6.8 MB/s eta 0:00:01\n",
      "     ---------------------------------        5.9/7.0 MB 6.7 MB/s eta 0:00:01\n",
      "     -----------------------------------      6.3/7.0 MB 6.8 MB/s eta 0:00:01\n",
      "     -------------------------------------    6.6/7.0 MB 6.8 MB/s eta 0:00:01\n",
      "     ---------------------------------------  7.0/7.0 MB 6.9 MB/s eta 0:00:01\n",
      "     ---------------------------------------  7.0/7.0 MB 6.8 MB/s eta 0:00:01\n",
      "     ---------------------------------------  7.0/7.0 MB 6.8 MB/s eta 0:00:01\n",
      "     ---------------------------------------  7.0/7.0 MB 6.8 MB/s eta 0:00:01\n",
      "     ---------------------------------------- 7.0/7.0 MB 5.9 MB/s eta 0:00:00\n",
      "Collecting pyparsing>=2.3.1 (from matplotlib)\n",
      "  Downloading pyparsing-3.2.4-py3-none-any.whl (113 kB)\n",
      "                                              0.0/113.9 kB ? eta -:--:--\n",
      "     -------------------------------------- 113.9/113.9 kB 3.2 MB/s eta 0:00:00\n",
      "Requirement already satisfied: python-dateutil>=2.7 in c:\\users\\vishw\\appdata\\local\\programs\\python\\python311\\lib\\site-packages (from matplotlib) (2.8.2)\n",
      "Requirement already satisfied: pandas>=1.2 in c:\\users\\vishw\\appdata\\local\\programs\\python\\python311\\lib\\site-packages (from seaborn) (2.3.2)\n",
      "Collecting numpy>=1.23 (from matplotlib)\n",
      "  Downloading numpy-2.3.3-cp311-cp311-win_amd64.whl (13.1 MB)\n",
      "                                              0.0/13.1 MB ? eta -:--:--\n",
      "                                              0.3/13.1 MB 6.5 MB/s eta 0:00:02\n",
      "     -                                        0.6/13.1 MB 6.6 MB/s eta 0:00:02\n",
      "     --                                       0.9/13.1 MB 6.5 MB/s eta 0:00:02\n",
      "     ---                                      1.3/13.1 MB 6.8 MB/s eta 0:00:02\n",
      "     ----                                     1.6/13.1 MB 6.6 MB/s eta 0:00:02\n",
      "     ------                                   2.0/13.1 MB 6.7 MB/s eta 0:00:02\n",
      "     -------                                  2.3/13.1 MB 6.7 MB/s eta 0:00:02\n",
      "     -------                                  2.6/13.1 MB 6.7 MB/s eta 0:00:02\n",
      "     --------                                 2.9/13.1 MB 6.6 MB/s eta 0:00:02\n",
      "     ---------                                3.3/13.1 MB 6.7 MB/s eta 0:00:02\n",
      "     ----------                               3.6/13.1 MB 6.7 MB/s eta 0:00:02\n",
      "     -----------                              3.9/13.1 MB 6.7 MB/s eta 0:00:02\n",
      "     ------------                             4.2/13.1 MB 6.7 MB/s eta 0:00:02\n",
      "     -------------                            4.5/13.1 MB 6.7 MB/s eta 0:00:02\n",
      "     --------------                           4.8/13.1 MB 6.7 MB/s eta 0:00:02\n",
      "     ---------------                          5.2/13.1 MB 6.8 MB/s eta 0:00:02\n",
      "     ----------------                         5.5/13.1 MB 6.8 MB/s eta 0:00:02\n",
      "     -----------------                        5.8/13.1 MB 6.7 MB/s eta 0:00:02\n",
      "     ------------------                       6.1/13.1 MB 6.7 MB/s eta 0:00:02\n",
      "     -------------------                      6.4/13.1 MB 6.7 MB/s eta 0:00:01\n",
      "     --------------------                     6.8/13.1 MB 6.8 MB/s eta 0:00:01\n",
      "     ---------------------                    7.0/13.1 MB 6.7 MB/s eta 0:00:01\n",
      "     ----------------------                   7.4/13.1 MB 6.8 MB/s eta 0:00:01\n",
      "     -----------------------                  7.7/13.1 MB 6.8 MB/s eta 0:00:01\n",
      "     ------------------------                 8.1/13.1 MB 6.8 MB/s eta 0:00:01\n",
      "     -------------------------                8.4/13.1 MB 6.8 MB/s eta 0:00:01\n",
      "     --------------------------               8.7/13.1 MB 6.8 MB/s eta 0:00:01\n",
      "     ---------------------------              9.0/13.1 MB 6.8 MB/s eta 0:00:01\n",
      "     ----------------------------             9.4/13.1 MB 6.8 MB/s eta 0:00:01\n",
      "     -----------------------------            9.7/13.1 MB 6.8 MB/s eta 0:00:01\n",
      "     ------------------------------           10.0/13.1 MB 6.8 MB/s eta 0:00:01\n",
      "     -------------------------------          10.3/13.1 MB 6.8 MB/s eta 0:00:01\n",
      "     --------------------------------         10.7/13.1 MB 6.8 MB/s eta 0:00:01\n",
      "     ---------------------------------        11.0/13.1 MB 6.8 MB/s eta 0:00:01\n",
      "     ----------------------------------       11.3/13.1 MB 6.8 MB/s eta 0:00:01\n",
      "     -----------------------------------      11.6/13.1 MB 6.8 MB/s eta 0:00:01\n",
      "     ------------------------------------     11.9/13.1 MB 6.8 MB/s eta 0:00:01\n",
      "     -------------------------------------    12.3/13.1 MB 6.8 MB/s eta 0:00:01\n",
      "     --------------------------------------   12.6/13.1 MB 6.8 MB/s eta 0:00:01\n",
      "     ---------------------------------------  12.9/13.1 MB 6.9 MB/s eta 0:00:01\n",
      "     ---------------------------------------  13.1/13.1 MB 6.8 MB/s eta 0:00:01\n",
      "     ---------------------------------------  13.1/13.1 MB 6.8 MB/s eta 0:00:01\n",
      "     ---------------------------------------  13.1/13.1 MB 6.8 MB/s eta 0:00:01\n",
      "     ---------------------------------------  13.1/13.1 MB 6.8 MB/s eta 0:00:01\n",
      "     ---------------------------------------  13.1/13.1 MB 6.8 MB/s eta 0:00:01\n",
      "     ---------------------------------------- 13.1/13.1 MB 5.8 MB/s eta 0:00:00\n",
      "Requirement already satisfied: pytz>=2020.1 in c:\\users\\vishw\\appdata\\local\\programs\\python\\python311\\lib\\site-packages (from pandas>=1.2->seaborn) (2023.3)\n",
      "Requirement already satisfied: tzdata>=2022.7 in c:\\users\\vishw\\appdata\\local\\programs\\python\\python311\\lib\\site-packages (from pandas>=1.2->seaborn) (2023.3)\n",
      "Requirement already satisfied: six>=1.5 in c:\\users\\vishw\\appdata\\local\\programs\\python\\python311\\lib\\site-packages (from python-dateutil>=2.7->matplotlib) (1.16.0)\n",
      "Installing collected packages: pyparsing, pillow, numpy, kiwisolver, fonttools, cycler, contourpy, matplotlib, seaborn\n",
      "  Attempting uninstall: numpy\n",
      "    Found existing installation: numpy 1.24.3\n",
      "    Uninstalling numpy-1.24.3:\n",
      "      Successfully uninstalled numpy-1.24.3\n"
     ]
    },
    {
     "name": "stderr",
     "output_type": "stream",
     "text": [
      "ERROR: Could not install packages due to an OSError: [WinError 5] Access is denied: 'C:\\\\Users\\\\vishw\\\\AppData\\\\Local\\\\Programs\\\\Python\\\\Python311\\\\Lib\\\\site-packages\\\\~umpy\\\\.libs\\\\libopenblas64__v0.3.21-gcc_10_3_0.dll'\n",
      "Consider using the `--user` option or check the permissions.\n",
      "\n",
      "\n",
      "[notice] A new release of pip is available: 23.1.2 -> 25.2\n",
      "[notice] To update, run: python.exe -m pip install --upgrade pip\n"
     ]
    }
   ],
   "source": [
    "!pip install matplotlib seaborn\n"
   ]
  },
  {
   "cell_type": "code",
   "execution_count": 20,
   "id": "53809599",
   "metadata": {},
   "outputs": [
    {
     "name": "stdout",
     "output_type": "stream",
     "text": [
      "Collecting matplotlib\n",
      "  Using cached matplotlib-3.10.6-cp311-cp311-win_amd64.whl (8.1 MB)\n",
      "Collecting seaborn\n",
      "  Using cached seaborn-0.13.2-py3-none-any.whl (294 kB)\n",
      "Collecting contourpy>=1.0.1 (from matplotlib)\n",
      "  Using cached contourpy-1.3.3-cp311-cp311-win_amd64.whl (225 kB)\n",
      "Collecting cycler>=0.10 (from matplotlib)\n",
      "  Using cached cycler-0.12.1-py3-none-any.whl (8.3 kB)\n",
      "Collecting fonttools>=4.22.0 (from matplotlib)\n",
      "  Using cached fonttools-4.59.2-cp311-cp311-win_amd64.whl (2.3 MB)\n",
      "Collecting kiwisolver>=1.3.1 (from matplotlib)\n",
      "  Using cached kiwisolver-1.4.9-cp311-cp311-win_amd64.whl (73 kB)\n",
      "Requirement already satisfied: numpy>=1.23 in c:\\users\\vishw\\appdata\\local\\programs\\python\\python311\\lib\\site-packages (from matplotlib) (2.3.3)\n",
      "Requirement already satisfied: packaging>=20.0 in c:\\users\\vishw\\appdata\\local\\programs\\python\\python311\\lib\\site-packages (from matplotlib) (23.1)\n",
      "Requirement already satisfied: pillow>=8 in c:\\users\\vishw\\appdata\\local\\programs\\python\\python311\\lib\\site-packages (from matplotlib) (11.3.0)\n",
      "Requirement already satisfied: pyparsing>=2.3.1 in c:\\users\\vishw\\appdata\\local\\programs\\python\\python311\\lib\\site-packages (from matplotlib) (3.2.4)\n",
      "Requirement already satisfied: python-dateutil>=2.7 in c:\\users\\vishw\\appdata\\local\\programs\\python\\python311\\lib\\site-packages (from matplotlib) (2.8.2)\n",
      "Requirement already satisfied: pandas>=1.2 in c:\\users\\vishw\\appdata\\local\\programs\\python\\python311\\lib\\site-packages (from seaborn) (2.3.2)\n",
      "Requirement already satisfied: pytz>=2020.1 in c:\\users\\vishw\\appdata\\local\\programs\\python\\python311\\lib\\site-packages (from pandas>=1.2->seaborn) (2023.3)\n",
      "Requirement already satisfied: tzdata>=2022.7 in c:\\users\\vishw\\appdata\\local\\programs\\python\\python311\\lib\\site-packages (from pandas>=1.2->seaborn) (2023.3)\n",
      "Requirement already satisfied: six>=1.5 in c:\\users\\vishw\\appdata\\local\\programs\\python\\python311\\lib\\site-packages (from python-dateutil>=2.7->matplotlib) (1.16.0)\n",
      "Installing collected packages: kiwisolver, fonttools, cycler, contourpy, matplotlib, seaborn\n",
      "Successfully installed contourpy-1.3.3 cycler-0.12.1 fonttools-4.59.2 kiwisolver-1.4.9 matplotlib-3.10.6 seaborn-0.13.2\n",
      "Note: you may need to restart the kernel to use updated packages.\n"
     ]
    },
    {
     "name": "stderr",
     "output_type": "stream",
     "text": [
      "\n",
      "[notice] A new release of pip is available: 23.1.2 -> 25.2\n",
      "[notice] To update, run: python.exe -m pip install --upgrade pip\n"
     ]
    }
   ],
   "source": [
    "pip install matplotlib seaborn --user\n"
   ]
  },
  {
   "cell_type": "code",
   "execution_count": 21,
   "id": "f892fced",
   "metadata": {},
   "outputs": [
    {
     "name": "stderr",
     "output_type": "stream",
     "text": [
      "C:\\Users\\vishw\\AppData\\Local\\Temp\\ipykernel_6240\\3750095225.py:9: FutureWarning: \n",
      "\n",
      "Passing `palette` without assigning `hue` is deprecated and will be removed in v0.14.0. Assign the `y` variable to `hue` and set `legend=False` for the same effect.\n",
      "\n",
      "  sns.barplot(x=avg_delay.values, y=avg_delay.index, palette=\"Reds_r\")\n"
     ]
    },
    {
     "data": {
      "image/png": "[encoded data removed]",
      "text/plain": [
       "<Figure size 1000x600 with 1 Axes>"
      ]
     },
     "metadata": {},
     "output_type": "display_data"
    }
   ],
   "source": [
    "import matplotlib.pyplot as plt\n",
    "import seaborn as sns\n",
    "\n",
    "# Calculate average delay per train\n",
    "avg_delay = df.groupby(\"Train_name\")[\"Delay_min\"].mean().sort_values(ascending=False).head(5)\n",
    "\n",
    "# Plot bar chart\n",
    "plt.figure(figsize=(10,6))\n",
    "sns.barplot(x=avg_delay.values, y=avg_delay.index, palette=\"Reds_r\")\n",
    "\n",
    "plt.title(\"Top 5 Most Delayed Trains\", fontsize=14, weight=\"bold\")\n",
    "plt.xlabel(\"Average Delay (minutes)\")\n",
    "plt.ylabel(\"Train Name\")\n",
    "plt.show()\n"
   ]
  },
  {
   "cell_type": "code",
   "execution_count": 22,
   "id": "69926736",
   "metadata": {},
   "outputs": [
    {
     "data": {
      "image/png": "[encoded data removed]",
      "text/plain": [
       "<Figure size 600x600 with 1 Axes>"
      ]
     },
     "metadata": {},
     "output_type": "display_data"
    }
   ],
   "source": [
    "import matplotlib.pyplot as plt\n",
    "\n",
    "# Create categories\n",
    "bins = [0, 30, 60, df['Delay_min'].max()]\n",
    "labels = ['0-30 min', '30-60 min', '60+ min']\n",
    "\n",
    "df['Delay_Category'] = pd.cut(df['Delay_min'], bins=bins, labels=labels, include_lowest=True)\n",
    "\n",
    "# Count distribution\n",
    "delay_counts = df['Delay_Category'].value_counts()\n",
    "\n",
    "# Plot pie chart\n",
    "plt.figure(figsize=(6,6))\n",
    "plt.pie(delay_counts, labels=delay_counts.index, autopct='%1.1f%%', startangle=90, colors=[\"#8fd694\",\"#f6ae2d\",\"#f26419\"])\n",
    "plt.title(\"Train Delay Distribution\", fontsize=14, weight=\"bold\")\n",
    "plt.show()\n"
   ]
  },
  {
   "cell_type": "code",
   "execution_count": 25,
   "id": "30bf2063",
   "metadata": {},
   "outputs": [
    {
     "data": {
      "image/png": "[encoded data removed]",
      "text/plain": [
       "<Figure size 800x600 with 1 Axes>"
      ]
     },
     "metadata": {},
     "output_type": "display_data"
    }
   ],
   "source": [
    "import matplotlib.pyplot as plt\n",
    "\n",
    "plt.figure(figsize=(8,6))\n",
    "plt.scatter(df['Distance(Km)'], df['Delay_min'], \n",
    "            color=\"royalblue\", alpha=0.7, edgecolors=\"k\")\n",
    "\n",
    "plt.title(\"Distance vs Delay\", fontsize=14, weight=\"bold\")\n",
    "plt.xlabel(\"Distance (Km)\", fontsize=12)\n",
    "plt.ylabel(\"Delay (Minutes)\", fontsize=12)\n",
    "plt.grid(True, linestyle=\"--\", alpha=0.5)\n",
    "\n",
    "plt.show()\n"
   ]
  },
  {
   "cell_type": "code",
   "execution_count": 26,
   "id": "15a63c8d",
   "metadata": {},
   "outputs": [
    {
     "data": {
      "image/png": "[encoded data removed]",
      "text/plain": [
       "<Figure size 800x600 with 1 Axes>"
      ]
     },
     "metadata": {},
     "output_type": "display_data"
    }
   ],
   "source": [
    "import matplotlib.pyplot as plt\n",
    "import seaborn as sns\n",
    "\n",
    "plt.figure(figsize=(8,6))\n",
    "sns.histplot(df['Calc_delay_min'], bins=30, kde=True, color=\"royalblue\")\n",
    "\n",
    "plt.title(\"Distribution of Train Delays\", fontsize=14, weight=\"bold\")\n",
    "plt.xlabel(\"Delay (Minutes)\")\n",
    "plt.ylabel(\"Number of Trains\")\n",
    "plt.show()\n"
   ]
  },
  {
   "cell_type": "code",
   "execution_count": null,
   "id": "42e41ec0",
   "metadata": {},
   "outputs": [
    {
     "data": {
      "image/png": "[encoded data removed]",
      "text/plain": [
       "<Figure size 800x600 with 1 Axes>"
      ]
     },
     "metadata": {},
     "output_type": "display_data"
    }
   ],
   "source": [
    "#Category-wise Delay Distribution\n",
    "import pandas as pd\n",
    "import matplotlib.pyplot as plt\n",
    "import seaborn as sns\n",
    "\n",
    "# Category create karna\n",
    "bins = [0, 30, 60, df['Calc_delay_min'].max()+1]\n",
    "labels = ['0-30 min', '30-60 min', '60+ min']\n",
    "df['Delay_category'] = pd.cut(df['Calc_delay_min'], bins=bins, labels=labels, right=False)\n",
    "\n",
    "# Category-wise count\n",
    "category_counts = df['Delay_category'].value_counts().sort_index()\n",
    "\n",
    "# Bar plot\n",
    "plt.figure(figsize=(8,6))\n",
    "sns.barplot(x=category_counts.index, y=category_counts.values, color=\"#4169E1\")  # royalblue hex\n",
    "\n",
    "plt.title(\"Category-wise Train Delay\", fontsize=14, weight=\"bold\")\n",
    "plt.xlabel(\"Delay Category\")\n",
    "plt.ylabel(\"Number of Trains\")\n",
    "plt.show()\n"
   ]
  },
  {
   "cell_type": "code",
   "execution_count": 29,
   "id": "dad1a605",
   "metadata": {},
   "outputs": [
    {
     "data": {
      "image/png": "[encoded data removed]",
      "text/plain": [
       "<Figure size 800x600 with 1 Axes>"
      ]
     },
     "metadata": {},
     "output_type": "display_data"
    }
   ],
   "source": [
    "import matplotlib.pyplot as plt\n",
    "import seaborn as sns\n",
    "import pandas as pd\n",
    "\n",
    "# Ensure 'Date' column is datetime\n",
    "df['Date'] = pd.to_datetime(df['Date'])\n",
    "\n",
    "# Extract year\n",
    "df['Year'] = df['Date'].dt.year\n",
    "\n",
    "# Calculate yearly average delay\n",
    "yearly_avg_delay = df.groupby('Year')['Calc_delay_min'].mean().reset_index()\n",
    "\n",
    "# Plot\n",
    "plt.figure(figsize=(8,6))\n",
    "sns.lineplot(data=yearly_avg_delay, x='Year', y='Calc_delay_min', marker='o', color='blue')\n",
    "\n",
    "plt.title(\"Yearly Average Train Delay\", fontsize=14, weight=\"bold\")\n",
    "plt.xlabel(\"Year\")\n",
    "plt.ylabel(\"Average Delay (Minutes)\")\n",
    "plt.show()\n"
   ]
  },
  {
   "cell_type": "code",
   "execution_count": 31,
   "id": "15a82ed7",
   "metadata": {},
   "outputs": [
    {
     "data": {
      "image/png": "[encoded data removed]",
      "text/plain": [
       "<Figure size 800x600 with 1 Axes>"
      ]
     },
     "metadata": {},
     "output_type": "display_data"
    }
   ],
   "source": [
    "# Ensure 'Date' column is datetime\n",
    "df['Date'] = pd.to_datetime(df['Date'])\n",
    "\n",
    "# Extract weekday name\n",
    "df['Weekday'] = df['Date'].dt.day_name()\n",
    "\n",
    "# Calculate average delay per weekday\n",
    "weekday_avg_delay = df.groupby('Weekday')['Calc_delay_min'].mean().reindex(\n",
    "    ['Monday', 'Tuesday', 'Wednesday', 'Thursday', 'Friday', 'Saturday', 'Sunday']\n",
    ").reset_index()\n",
    "\n",
    "# Plot\n",
    "plt.figure(figsize=(8,6))\n",
    "sns.barplot(x='Weekday', y='Calc_delay_min', data=weekday_avg_delay, color='skyblue')\n",
    "\n",
    "\n",
    "plt.title(\"Average Train Delay by Weekday\", fontsize=14, weight=\"bold\")\n",
    "plt.xlabel(\"Weekday\")\n",
    "plt.ylabel(\"Average Delay (Minutes)\")\n",
    "plt.xticks(rotation=45)\n",
    "plt.show()\n"
   ]
  },
  {
   "cell_type": "code",
   "execution_count": 32,
   "id": "0ba1b4d3",
   "metadata": {},
   "outputs": [
    {
     "data": {
      "image/png": "[encoded data removed]",
      "text/plain": [
       "<Figure size 1000x600 with 1 Axes>"
      ]
     },
     "metadata": {},
     "output_type": "display_data"
    }
   ],
   "source": [
    "# Calculate average delay per Source\n",
    "source_avg_delay = df.groupby('Source')['Calc_delay_min'].mean().sort_values(ascending=False).reset_index()\n",
    "\n",
    "# Plot top 10 sources with highest delay\n",
    "plt.figure(figsize=(10,6))\n",
    "sns.barplot(x='Calc_delay_min', y='Source', data=source_avg_delay.head(10), color='coral')\n",
    "\n",
    "plt.title(\"Top 10 Sources by Average Train Delay\", fontsize=14, weight=\"bold\")\n",
    "plt.xlabel(\"Average Delay (Minutes)\")\n",
    "plt.ylabel(\"Source Station\")\n",
    "plt.show()\n"
   ]
  },
  {
   "cell_type": "code",
   "execution_count": 33,
   "id": "a4cc0063",
   "metadata": {},
   "outputs": [
    {
     "data": {
      "image/png": "[encoded data removed]",
      "text/plain": [
       "<Figure size 1200x800 with 2 Axes>"
      ]
     },
     "metadata": {},
     "output_type": "display_data"
    }
   ],
   "source": [
    "import matplotlib.pyplot as plt\n",
    "import seaborn as sns\n",
    "import pandas as pd\n",
    "\n",
    "# Pivot table: Source × Destination → average delay\n",
    "route_delay = df.pivot_table(values='Calc_delay_min', index='Source', columns='Destination', aggfunc='mean')\n",
    "\n",
    "# Optional: Top 10 sources and destinations to keep plot readable\n",
    "top_sources = route_delay.mean(axis=1).sort_values(ascending=False).head(10).index\n",
    "top_destinations = route_delay.mean(axis=0).sort_values(ascending=False).head(10).index\n",
    "route_delay_top = route_delay.loc[top_sources, top_destinations]\n",
    "\n",
    "# Plot heatmap\n",
    "plt.figure(figsize=(12,8))\n",
    "sns.heatmap(route_delay_top, annot=True, fmt=\".1f\", cmap='Reds')\n",
    "\n",
    "plt.title(\"Average Train Delay: Source → Destination\", fontsize=14, weight=\"bold\")\n",
    "plt.xlabel(\"Destination\")\n",
    "plt.ylabel(\"Source\")\n",
    "plt.show()\n"
   ]
  },
  {
   "cell_type": "code",
   "execution_count": null,
   "id": "e4077308",
   "metadata": {},
   "outputs": [],
   "source": [
    "!pip install plotly\n"
   ]
  },
  {
   "cell_type": "code",
   "execution_count": 47,
   "id": "65b1c54d",
   "metadata": {},
   "outputs": [
    {
     "data": {
      "application/vnd.plotly.v1+json": {
       "config": {
        "plotlyServerURL": "https://plot.ly"
       },
       "data": [
        {
         "colorbar": {
          "title": {
           "text": "Avg Delay"
          }
         },
         "colorscale": [
          [
           0,
           "rgb(255,245,240)"
          ],
          [
           0.125,
           "rgb(254,224,210)"
          ],
          [
           0.25,
           "rgb(252,187,161)"
          ],
          [
           0.375,
           "rgb(252,146,114)"
          ],
          [
           0.5,
           "rgb(251,106,74)"
          ],
          [
           0.625,
           "rgb(239,59,44)"
          ],
          [
           0.75,
           "rgb(203,24,29)"
          ],
          [
           0.875,
           "rgb(165,15,21)"
          ],
          [
           1,
           "rgb(103,0,13)"
          ]
         ],
         "type": "heatmap",
         "visible": true,
         "x": [
          "Howrah",
          "Pune",
          "Jammu",
          "RANI KAMLAPATI ",
          "Chennai ",
          " New Delhi",
          "Kanyakumari"
         ],
         "y": [
          "Yesvantpur Jn",
          "Gorakhpur",
          "Varanasi",
          " New Delhi",
          "Howrah",
          "Mumbai",
          " Kolkata",
          "Chennai Egmore",
          "Lucknow",
          "Dibrugarh"
         ],
         "z": {
          "bdata": "AAAAAAAA+H8AAAAAAAD4fwAAAAAAAPh/AAAAAAAA+H8AAAAAAAD4fwAAAAAAAPh/AAAAAAAA+H8AAAAAAAD4fwAAAAAAAFRAAAAAAAAA+H8AAAAAAAD4fwAAAAAAAPh/AAAAAAAA+H8AAAAAAAD4fwAAAAAAAPh/AAAAAAAA+H8AAAAAAAD4fwAAAAAAAPh/AAAAAAAA+H8AAAAAAAD4fwAAAAAAAPh/AAAAAAAA+H8AAAAAAAD4fwAAAAAAAPh/AAAAAAAA+H8AAAAAAAD4fwAAAAAAAPh/AAAAAAAA+H8AAAAAAAD4fwAAAAAAAPh/AAAAAAAA+H8AAAAAAAD4fwAAAAAAAPh/AAAAAAAA+H8AAAAAAAD4fwAAAAAAAPh/AAAAAAAA+H8AAAAAAAD4fwAAAAAAAPh/AAAAAAAA+H8AAAAAAAD4fwAAAAAAAPh/AAAAAAAA+H8AAAAAAAD4fwAAAAAAAPh/AAAAAAAA+H8AAAAAAAD4fwAAAAAAAPh/AAAAAAAA+H8AAAAAAAD4fwAAAAAAAPh/AAAAAAAA+H8AAAAAAAD4fwAAAAAAAPh/AAAAAAAA+H8AAAAAAAD4fwAAAAAAAPh/AAAAAAAA+H8AAAAAAAD4fwAAAAAAAPh/AAAAAAAA+H8AAAAAAAD4fwAAAAAAAPh/AAAAAAAA+H8AAAAAAAD4fwAAAAAAAPh/AAAAAAAA+H8AAAAAAAD4fwAAAAAAAPh/AAAAAAAA+H8=",
          "dtype": "f8",
          "shape": "10, 7"
         },
         "zmax": 244,
         "zmin": 0
        },
        {
         "colorbar": {
          "title": {
           "text": "Avg Delay"
          }
         },
         "colorscale": [
          [
           0,
           "rgb(255,245,240)"
          ],
          [
           0.125,
           "rgb(254,224,210)"
          ],
          [
           0.25,
           "rgb(252,187,161)"
          ],
          [
           0.375,
           "rgb(252,146,114)"
          ],
          [
           0.5,
           "rgb(251,106,74)"
          ],
          [
           0.625,
           "rgb(239,59,44)"
          ],
          [
           0.75,
           "rgb(203,24,29)"
          ],
          [
           0.875,
           "rgb(165,15,21)"
          ],
          [
           1,
           "rgb(103,0,13)"
          ]
         ],
         "type": "heatmap",
         "visible": false,
         "x": [
          "Howrah",
          "Pune",
          "Jammu",
          "RANI KAMLAPATI ",
          "Chennai ",
          " New Delhi",
          "Kanyakumari"
         ],
         "y": [
          "Yesvantpur Jn",
          "Gorakhpur",
          "Varanasi",
          " New Delhi",
          "Howrah",
          "Mumbai",
          " Kolkata",
          "Chennai Egmore",
          "Lucknow",
          "Dibrugarh"
         ],
         "z": {
          "bdata": "AAAAAAAAPkAAAAAAAAD4fwAAAAAAAPh/AAAAAAAA+H8AAAAAAAD4fwAAAAAAAPh/AAAAAAAA+H8AAAAAAAD4fwAAAAAAAPh/AAAAAAAA+H8AAAAAAAD4fwAAAAAAAPh/AAAAAAAA+H8AAAAAAAD4fwAAAAAAAPh/AAAAAAAA+H8AAAAAAMBSQAAAAAAAAPh/AAAAAAAA+H8AAAAAAAD4fwAAAAAAAPh/AAAAAAAA+H8AAAAAAAD4fwAAAAAAAPh/AAAAAAAAJEAAAAAAAAD4fwAAAAAAAPh/AAAAAAAA+H8AAAAAAAD4fwAAAAAAAPh/AAAAAAAA+H8AAAAAAAD4fwAAAAAAAPh/AAAAAAAANEAAAAAAAAD4fwAAAAAAAPh/AAAAAAAA+H8AAAAAAAD4fwAAAAAAAPh/AAAAAAAANEAAAAAAAAD4fwAAAAAAAPh/AAAAAAAA+H8AAAAAAAD4fwAAAAAAAPh/AAAAAAAA+H8AAAAAAAD4fwAAAAAAADRAAAAAAAAA+H8AAAAAAAD4fwAAAAAAAPh/AAAAAAAA+H8AAAAAAAD4fwAAAAAAAPh/AAAAAAAA+H8AAAAAAAAAAAAAAAAAAPh/AAAAAAAA+H8AAAAAAAD4fwAAAAAAAPh/AAAAAAAA+H8AAAAAAADwPwAAAAAAAPh/AAAAAAAA+H8AAAAAAAD4fwAAAAAAAPh/AAAAAAAA+H8AAAAAAAD4fwAAAAAAAPh/AAAAAAAAFEA=",
          "dtype": "f8",
          "shape": "10, 7"
         },
         "zmax": 244,
         "zmin": 0
        },
        {
         "colorbar": {
          "title": {
           "text": "Avg Delay"
          }
         },
         "colorscale": [
          [
           0,
           "rgb(255,245,240)"
          ],
          [
           0.125,
           "rgb(254,224,210)"
          ],
          [
           0.25,
           "rgb(252,187,161)"
          ],
          [
           0.375,
           "rgb(252,146,114)"
          ],
          [
           0.5,
           "rgb(251,106,74)"
          ],
          [
           0.625,
           "rgb(239,59,44)"
          ],
          [
           0.75,
           "rgb(203,24,29)"
          ],
          [
           0.875,
           "rgb(165,15,21)"
          ],
          [
           1,
           "rgb(103,0,13)"
          ]
         ],
         "type": "heatmap",
         "visible": false,
         "x": [
          "Howrah",
          "Pune",
          "Jammu",
          "RANI KAMLAPATI ",
          "Chennai ",
          " New Delhi",
          "Kanyakumari"
         ],
         "y": [
          "Yesvantpur Jn",
          "Gorakhpur",
          "Varanasi",
          " New Delhi",
          "Howrah",
          "Mumbai",
          " Kolkata",
          "Chennai Egmore",
          "Lucknow",
          "Dibrugarh"
         ],
         "z": {
          "bdata": "AAAAAAAA+H8AAAAAAAD4fwAAAAAAAPh/AAAAAAAA+H8AAAAAAAD4fwAAAAAAAPh/AAAAAAAA+H8AAAAAAAD4fwAAAAAAgEZAAAAAAAAA+H8AAAAAAAD4fwAAAAAAAPh/AAAAAAAA+H8AAAAAAAD4fwAAAAAAAPh/AAAAAAAA+H8AAAAAAAD4fwAAAAAAAPh/AAAAAAAA+H8AAAAAAAD4fwAAAAAAAPh/AAAAAAAA+H8AAAAAAAD4fwAAAAAAAPh/AAAAAAAA+H8AAAAAAAD4fwAAAAAAAPh/AAAAAAAA+H8AAAAAAAD4fwAAAAAAAPh/AAAAAAAA+H8AAAAAAAD4fwAAAAAAAPh/AAAAAAAA+H8AAAAAAAD4fwAAAAAAAPh/AAAAAAAA+H8AAAAAAAD4fwAAAAAAAPh/AAAAAAAA+H8AAAAAAAD4fwAAAAAAAPh/AAAAAAAA+H8AAAAAAAD4fwAAAAAAAPh/AAAAAAAA+H8AAAAAAAD4fwAAAAAAAPh/AAAAAAAA+H8AAAAAAAD4fwAAAAAAAPh/AAAAAAAA+H8AAAAAAAD4fwAAAAAAAPh/AAAAAAAA+H8AAAAAAAD4fwAAAAAAAPh/AAAAAAAA+H8AAAAAAAD4fwAAAAAAAPh/AAAAAAAA+H8AAAAAAAD4fwAAAAAAAPh/AAAAAAAA+H8AAAAAAAD4fwAAAAAAAPh/AAAAAAAA+H8AAAAAAAD4fwAAAAAAAPh/AAAAAAAA+H8=",
          "dtype": "f8",
          "shape": "10, 7"
         },
         "zmax": 244,
         "zmin": 0
        },
        {
         "colorbar": {
          "title": {
           "text": "Avg Delay"
          }
         },
         "colorscale": [
          [
           0,
           "rgb(255,245,240)"
          ],
          [
           0.125,
           "rgb(254,224,210)"
          ],
          [
           0.25,
           "rgb(252,187,161)"
          ],
          [
           0.375,
           "rgb(252,146,114)"
          ],
          [
           0.5,
           "rgb(251,106,74)"
          ],
          [
           0.625,
           "rgb(239,59,44)"
          ],
          [
           0.75,
           "rgb(203,24,29)"
          ],
          [
           0.875,
           "rgb(165,15,21)"
          ],
          [
           1,
           "rgb(103,0,13)"
          ]
         ],
         "type": "heatmap",
         "visible": false,
         "x": [
          "Howrah",
          "Pune",
          "Jammu",
          "RANI KAMLAPATI ",
          "Chennai ",
          " New Delhi",
          "Kanyakumari"
         ],
         "y": [
          "Yesvantpur Jn",
          "Gorakhpur",
          "Varanasi",
          " New Delhi",
          "Howrah",
          "Mumbai",
          " Kolkata",
          "Chennai Egmore",
          "Lucknow",
          "Dibrugarh"
         ],
         "z": {
          "bdata": "AAAAAAAAIkAAAAAAAAD4fwAAAAAAAPh/AAAAAAAA+H8AAAAAAAD4fwAAAAAAAPh/AAAAAAAA+H8AAAAAAAD4fwAAAAAAAPh/AAAAAAAA+H8AAAAAAAD4fwAAAAAAAPh/AAAAAAAA+H8AAAAAAAD4fwAAAAAAAPh/AAAAAAAA+H8AAAAAAAA0QAAAAAAAAPh/AAAAAAAA+H8AAAAAAAD4fwAAAAAAAPh/AAAAAAAA+H8AAAAAAAD4fwAAAAAAAPh/AAAAAACAUUAAAAAAAAD4fwAAAAAAAPh/AAAAAAAA+H8AAAAAAAD4fwAAAAAAAPh/AAAAAAAA+H8AAAAAAAD4fwAAAAAAAPh/AAAAAAAAREAAAAAAAAD4fwAAAAAAAPh/AAAAAAAA+H8AAAAAAAD4fwAAAAAAAPh/AAAAAACARkAAAAAAAAD4fwAAAAAAAPh/AAAAAAAA+H8AAAAAAAD4fwAAAAAAAPh/AAAAAAAA+H8AAAAAAAD4fwAAAAAAAE5AAAAAAAAA+H8AAAAAAAD4fwAAAAAAAPh/AAAAAAAA+H8AAAAAAAD4fwAAAAAAAPh/AAAAAAAA+H8AAAAAAAA0QAAAAAAAAPh/AAAAAAAA+H8AAAAAAAD4fwAAAAAAAPh/AAAAAAAA+H8AAAAAAAAsQAAAAAAAAPh/AAAAAAAA+H8AAAAAAAD4fwAAAAAAAPh/AAAAAAAA+H8AAAAAAAD4fwAAAAAAAPh/AAAAAACAQUA=",
          "dtype": "f8",
          "shape": "10, 7"
         },
         "zmax": 244,
         "zmin": 0
        },
        {
         "colorbar": {
          "title": {
           "text": "Avg Delay"
          }
         },
         "colorscale": [
          [
           0,
           "rgb(255,245,240)"
          ],
          [
           0.125,
           "rgb(254,224,210)"
          ],
          [
           0.25,
           "rgb(252,187,161)"
          ],
          [
           0.375,
           "rgb(252,146,114)"
          ],
          [
           0.5,
           "rgb(251,106,74)"
          ],
          [
           0.625,
           "rgb(239,59,44)"
          ],
          [
           0.75,
           "rgb(203,24,29)"
          ],
          [
           0.875,
           "rgb(165,15,21)"
          ],
          [
           1,
           "rgb(103,0,13)"
          ]
         ],
         "type": "heatmap",
         "visible": false,
         "x": [
          "Howrah",
          "Pune",
          "Jammu",
          "RANI KAMLAPATI ",
          "Chennai ",
          " New Delhi",
          "Kanyakumari"
         ],
         "y": [
          "Yesvantpur Jn",
          "Gorakhpur",
          "Varanasi",
          " New Delhi",
          "Howrah",
          "Mumbai",
          " Kolkata",
          "Chennai Egmore",
          "Lucknow",
          "Dibrugarh"
         ],
         "z": {
          "bdata": "AAAAAAAALEAAAAAAAAD4fwAAAAAAAPh/AAAAAAAA+H8AAAAAAAD4fwAAAAAAAPh/AAAAAAAA+H8AAAAAAAD4fwAAAAAAAPh/AAAAAAAA+H8AAAAAAAD4fwAAAAAAAPh/AAAAAAAA+H8AAAAAAAD4fwAAAAAAAPh/AAAAAAAA+H8AAAAAAIBWQAAAAAAAAPh/AAAAAAAA+H8AAAAAAAD4fwAAAAAAAPh/AAAAAAAA+H8AAAAAAAD4fwAAAAAAAPh/AAAAAABAYEAAAAAAAAD4fwAAAAAAAPh/AAAAAAAA+H8AAAAAAAD4fwAAAAAAAPh/AAAAAAAA+H8AAAAAAAD4fwAAAAAAAPh/AAAAAACAUUAAAAAAAAD4fwAAAAAAAPh/AAAAAAAA+H8AAAAAAAD4fwAAAAAAAPh/AAAAAAAAJEAAAAAAAAD4fwAAAAAAAPh/AAAAAAAA+H8AAAAAAAD4fwAAAAAAAPh/AAAAAAAA+H8AAAAAAAD4fwAAAAAAABRAAAAAAAAA+H8AAAAAAAD4fwAAAAAAAPh/AAAAAAAA+H8AAAAAAAD4fwAAAAAAAPh/AAAAAAAA+H8AAAAAAABEQAAAAAAAAPh/AAAAAAAA+H8AAAAAAAD4fwAAAAAAAPh/AAAAAAAA+H8AAAAAAIBGQAAAAAAAAPh/AAAAAAAA+H8AAAAAAAD4fwAAAAAAAPh/AAAAAAAA+H8AAAAAAAD4fwAAAAAAAPh/AAAAAAAATUA=",
          "dtype": "f8",
          "shape": "10, 7"
         },
         "zmax": 244,
         "zmin": 0
        },
        {
         "colorbar": {
          "title": {
           "text": "Avg Delay"
          }
         },
         "colorscale": [
          [
           0,
           "rgb(255,245,240)"
          ],
          [
           0.125,
           "rgb(254,224,210)"
          ],
          [
           0.25,
           "rgb(252,187,161)"
          ],
          [
           0.375,
           "rgb(252,146,114)"
          ],
          [
           0.5,
           "rgb(251,106,74)"
          ],
          [
           0.625,
           "rgb(239,59,44)"
          ],
          [
           0.75,
           "rgb(203,24,29)"
          ],
          [
           0.875,
           "rgb(165,15,21)"
          ],
          [
           1,
           "rgb(103,0,13)"
          ]
         ],
         "type": "heatmap",
         "visible": false,
         "x": [
          "Howrah",
          "Pune",
          "Jammu",
          "RANI KAMLAPATI ",
          "Chennai ",
          " New Delhi",
          "Kanyakumari"
         ],
         "y": [
          "Yesvantpur Jn",
          "Gorakhpur",
          "Varanasi",
          " New Delhi",
          "Howrah",
          "Mumbai",
          " Kolkata",
          "Chennai Egmore",
          "Lucknow",
          "Dibrugarh"
         ],
         "z": {
          "bdata": "AAAAAAAA+H8AAAAAAAD4fwAAAAAAAPh/AAAAAAAA+H8AAAAAAAD4fwAAAAAAAPh/AAAAAAAA+H8AAAAAAAD4fwAAAAAAAD5AAAAAAAAA+H8AAAAAAAD4fwAAAAAAAPh/AAAAAAAA+H8AAAAAAAD4fwAAAAAAAPh/AAAAAAAA+H8AAAAAAAD4fwAAAAAAAPh/AAAAAAAA+H8AAAAAAAD4fwAAAAAAAPh/AAAAAAAA+H8AAAAAAAD4fwAAAAAAAPh/AAAAAAAA+H8AAAAAAAD4fwAAAAAAAPh/AAAAAAAA+H8AAAAAAAD4fwAAAAAAAPh/AAAAAAAA+H8AAAAAAAD4fwAAAAAAAPh/AAAAAAAA+H8AAAAAAAD4fwAAAAAAAPh/AAAAAAAA+H8AAAAAAAD4fwAAAAAAAPh/AAAAAAAA+H8AAAAAAAD4fwAAAAAAAPh/AAAAAAAA+H8AAAAAAAD4fwAAAAAAAPh/AAAAAAAA+H8AAAAAAAD4fwAAAAAAAPh/AAAAAAAA+H8AAAAAAAD4fwAAAAAAAPh/AAAAAAAA+H8AAAAAAAD4fwAAAAAAAPh/AAAAAAAA+H8AAAAAAAD4fwAAAAAAAPh/AAAAAAAA+H8AAAAAAAD4fwAAAAAAAPh/AAAAAAAA+H8AAAAAAAD4fwAAAAAAAPh/AAAAAAAA+H8AAAAAAAD4fwAAAAAAAPh/AAAAAAAA+H8AAAAAAAD4fwAAAAAAAPh/AAAAAAAA+H8=",
          "dtype": "f8",
          "shape": "10, 7"
         },
         "zmax": 244,
         "zmin": 0
        },
        {
         "colorbar": {
          "title": {
           "text": "Avg Delay"
          }
         },
         "colorscale": [
          [
           0,
           "rgb(255,245,240)"
          ],
          [
           0.125,
           "rgb(254,224,210)"
          ],
          [
           0.25,
           "rgb(252,187,161)"
          ],
          [
           0.375,
           "rgb(252,146,114)"
          ],
          [
           0.5,
           "rgb(251,106,74)"
          ],
          [
           0.625,
           "rgb(239,59,44)"
          ],
          [
           0.75,
           "rgb(203,24,29)"
          ],
          [
           0.875,
           "rgb(165,15,21)"
          ],
          [
           1,
           "rgb(103,0,13)"
          ]
         ],
         "type": "heatmap",
         "visible": false,
         "x": [
          "Howrah",
          "Pune",
          "Jammu",
          "RANI KAMLAPATI ",
          "Chennai ",
          " New Delhi",
          "Kanyakumari"
         ],
         "y": [
          "Yesvantpur Jn",
          "Gorakhpur",
          "Varanasi",
          " New Delhi",
          "Howrah",
          "Mumbai",
          " Kolkata",
          "Chennai Egmore",
          "Lucknow",
          "Dibrugarh"
         ],
         "z": {
          "bdata": "AAAAAAAANEAAAAAAAAD4fwAAAAAAAPh/AAAAAAAA+H8AAAAAAAD4fwAAAAAAAPh/AAAAAAAA+H8AAAAAAAD4fwAAAAAAAPh/AAAAAAAA+H8AAAAAAAD4fwAAAAAAAPh/AAAAAAAA+H8AAAAAAAD4fwAAAAAAAPh/AAAAAAAA+H8AAAAAAAAkQAAAAAAAAPh/AAAAAAAA+H8AAAAAAAD4fwAAAAAAAPh/AAAAAAAA+H8AAAAAAAD4fwAAAAAAAPh/AAAAAAAAOUAAAAAAAAD4fwAAAAAAAPh/AAAAAAAA+H8AAAAAAAD4fwAAAAAAAPh/AAAAAAAA+H8AAAAAAAD4fwAAAAAAAPh/AAAAAAAAFEAAAAAAAAD4fwAAAAAAAPh/AAAAAAAA+H8AAAAAAAD4fwAAAAAAAPh/AAAAAAAAOUAAAAAAAAD4fwAAAAAAAPh/AAAAAAAA+H8AAAAAAAD4fwAAAAAAAPh/AAAAAAAA+H8AAAAAAAD4fwAAAAAAACRAAAAAAAAA+H8AAAAAAAD4fwAAAAAAAPh/AAAAAAAA+H8AAAAAAAD4fwAAAAAAAPh/AAAAAAAA+H8AAAAAAAAIQAAAAAAAAPh/AAAAAAAA+H8AAAAAAAD4fwAAAAAAAPh/AAAAAAAA+H8AAAAAAIBRQAAAAAAAAPh/AAAAAAAA+H8AAAAAAAD4fwAAAAAAAPh/AAAAAAAA+H8AAAAAAAD4fwAAAAAAAPh/AAAAAAAALkA=",
          "dtype": "f8",
          "shape": "10, 7"
         },
         "zmax": 244,
         "zmin": 0
        },
        {
         "colorbar": {
          "title": {
           "text": "Avg Delay"
          }
         },
         "colorscale": [
          [
           0,
           "rgb(255,245,240)"
          ],
          [
           0.125,
           "rgb(254,224,210)"
          ],
          [
           0.25,
           "rgb(252,187,161)"
          ],
          [
           0.375,
           "rgb(252,146,114)"
          ],
          [
           0.5,
           "rgb(251,106,74)"
          ],
          [
           0.625,
           "rgb(239,59,44)"
          ],
          [
           0.75,
           "rgb(203,24,29)"
          ],
          [
           0.875,
           "rgb(165,15,21)"
          ],
          [
           1,
           "rgb(103,0,13)"
          ]
         ],
         "type": "heatmap",
         "visible": false,
         "x": [
          "Howrah",
          "Pune",
          "Jammu",
          "RANI KAMLAPATI ",
          "Chennai ",
          " New Delhi",
          "Kanyakumari"
         ],
         "y": [
          "Yesvantpur Jn",
          "Gorakhpur",
          "Varanasi",
          " New Delhi",
          "Howrah",
          "Mumbai",
          " Kolkata",
          "Chennai Egmore",
          "Lucknow",
          "Dibrugarh"
         ],
         "z": {
          "bdata": "AAAAAAAA+H8AAAAAAAD4fwAAAAAAAPh/AAAAAAAA+H8AAAAAAAD4fwAAAAAAAPh/AAAAAAAA+H8AAAAAAAD4fwAAAAAAACRAAAAAAAAA+H8AAAAAAAD4fwAAAAAAAPh/AAAAAAAA+H8AAAAAAAD4fwAAAAAAAPh/AAAAAAAA+H8AAAAAAAD4fwAAAAAAAPh/AAAAAAAA+H8AAAAAAAD4fwAAAAAAAPh/AAAAAAAA+H8AAAAAAAD4fwAAAAAAAPh/AAAAAAAA+H8AAAAAAAD4fwAAAAAAAPh/AAAAAAAA+H8AAAAAAAD4fwAAAAAAAPh/AAAAAAAA+H8AAAAAAAD4fwAAAAAAAPh/AAAAAAAA+H8AAAAAAAD4fwAAAAAAAPh/AAAAAAAA+H8AAAAAAAD4fwAAAAAAAPh/AAAAAAAA+H8AAAAAAAD4fwAAAAAAAPh/AAAAAAAA+H8AAAAAAAD4fwAAAAAAAPh/AAAAAAAA+H8AAAAAAAD4fwAAAAAAAPh/AAAAAAAA+H8AAAAAAAD4fwAAAAAAAPh/AAAAAAAA+H8AAAAAAAD4fwAAAAAAAPh/AAAAAAAA+H8AAAAAAAD4fwAAAAAAAPh/AAAAAAAA+H8AAAAAAAD4fwAAAAAAAPh/AAAAAAAA+H8AAAAAAAD4fwAAAAAAAPh/AAAAAAAA+H8AAAAAAAD4fwAAAAAAAPh/AAAAAAAA+H8AAAAAAAD4fwAAAAAAAPh/AAAAAAAA+H8=",
          "dtype": "f8",
          "shape": "10, 7"
         },
         "zmax": 244,
         "zmin": 0
        },
        {
         "colorbar": {
          "title": {
           "text": "Avg Delay"
          }
         },
         "colorscale": [
          [
           0,
           "rgb(255,245,240)"
          ],
          [
           0.125,
           "rgb(254,224,210)"
          ],
          [
           0.25,
           "rgb(252,187,161)"
          ],
          [
           0.375,
           "rgb(252,146,114)"
          ],
          [
           0.5,
           "rgb(251,106,74)"
          ],
          [
           0.625,
           "rgb(239,59,44)"
          ],
          [
           0.75,
           "rgb(203,24,29)"
          ],
          [
           0.875,
           "rgb(165,15,21)"
          ],
          [
           1,
           "rgb(103,0,13)"
          ]
         ],
         "type": "heatmap",
         "visible": false,
         "x": [
          "Howrah",
          "Pune",
          "Jammu",
          "RANI KAMLAPATI ",
          "Chennai ",
          " New Delhi",
          "Kanyakumari"
         ],
         "y": [
          "Yesvantpur Jn",
          "Gorakhpur",
          "Varanasi",
          " New Delhi",
          "Howrah",
          "Mumbai",
          " Kolkata",
          "Chennai Egmore",
          "Lucknow",
          "Dibrugarh"
         ],
         "z": {
          "bdata": "AAAAAAAA8D8AAAAAAAD4fwAAAAAAAPh/AAAAAAAA+H8AAAAAAAD4fwAAAAAAAPh/AAAAAAAA+H8AAAAAAAD4fwAAAAAAAPh/AAAAAAAA+H8AAAAAAAD4fwAAAAAAAPh/AAAAAAAA+H8AAAAAAAD4fwAAAAAAAPh/AAAAAAAA+H8AAAAAAAA+QAAAAAAAAPh/AAAAAAAA+H8AAAAAAAD4fwAAAAAAAPh/AAAAAAAA+H8AAAAAAAD4fwAAAAAAAPh/AAAAAAAAFEAAAAAAAAD4fwAAAAAAAPh/AAAAAAAA+H8AAAAAAAD4fwAAAAAAAPh/AAAAAAAA+H8AAAAAAAD4fwAAAAAAAPh/AAAAAAAAPkAAAAAAAAD4fwAAAAAAAPh/AAAAAAAA+H8AAAAAAAD4fwAAAAAAAPh/AAAAAAAASUAAAAAAAAD4fwAAAAAAAPh/AAAAAAAA+H8AAAAAAAD4fwAAAAAAAPh/AAAAAAAA+H8AAAAAAAD4fwAAAAAAADRAAAAAAAAA+H8AAAAAAAD4fwAAAAAAAPh/AAAAAAAA+H8AAAAAAAD4fwAAAAAAAPh/AAAAAAAA+H8AAAAAAAAUQAAAAAAAAPh/AAAAAAAA+H8AAAAAAAD4fwAAAAAAAPh/AAAAAAAA+H8AAAAAAAAUQAAAAAAAAPh/AAAAAAAA+H8AAAAAAAD4fwAAAAAAAPh/AAAAAAAA+H8AAAAAAAD4fwAAAAAAAPh/AAAAAAAANUA=",
          "dtype": "f8",
          "shape": "10, 7"
         },
         "zmax": 244,
         "zmin": 0
        },
        {
         "colorbar": {
          "title": {
           "text": "Avg Delay"
          }
         },
         "colorscale": [
          [
           0,
           "rgb(255,245,240)"
          ],
          [
           0.125,
           "rgb(254,224,210)"
          ],
          [
           0.25,
           "rgb(252,187,161)"
          ],
          [
           0.375,
           "rgb(252,146,114)"
          ],
          [
           0.5,
           "rgb(251,106,74)"
          ],
          [
           0.625,
           "rgb(239,59,44)"
          ],
          [
           0.75,
           "rgb(203,24,29)"
          ],
          [
           0.875,
           "rgb(165,15,21)"
          ],
          [
           1,
           "rgb(103,0,13)"
          ]
         ],
         "type": "heatmap",
         "visible": false,
         "x": [
          "Howrah",
          "Pune",
          "Jammu",
          "RANI KAMLAPATI ",
          "Chennai ",
          " New Delhi",
          "Kanyakumari"
         ],
         "y": [
          "Yesvantpur Jn",
          "Gorakhpur",
          "Varanasi",
          " New Delhi",
          "Howrah",
          "Mumbai",
          " Kolkata",
          "Chennai Egmore",
          "Lucknow",
          "Dibrugarh"
         ],
         "z": {
          "bdata": "AAAAAAAA+H8AAAAAAAD4fwAAAAAAAPh/AAAAAAAA+H8AAAAAAAD4fwAAAAAAAPh/AAAAAAAA+H8AAAAAAAD4fwAAAAAAADRAAAAAAAAA+H8AAAAAAAD4fwAAAAAAAPh/AAAAAAAA+H8AAAAAAAD4fwAAAAAAAPh/AAAAAAAA+H8AAAAAAAD4fwAAAAAAAPh/AAAAAAAA+H8AAAAAAAD4fwAAAAAAAPh/AAAAAAAA+H8AAAAAAAD4fwAAAAAAAPh/AAAAAAAA+H8AAAAAAAD4fwAAAAAAAPh/AAAAAAAA+H8AAAAAAAD4fwAAAAAAAPh/AAAAAAAA+H8AAAAAAAD4fwAAAAAAAPh/AAAAAAAA+H8AAAAAAAD4fwAAAAAAAPh/AAAAAAAA+H8AAAAAAAD4fwAAAAAAAPh/AAAAAAAA+H8AAAAAAAD4fwAAAAAAAPh/AAAAAAAA+H8AAAAAAAD4fwAAAAAAAPh/AAAAAAAA+H8AAAAAAAD4fwAAAAAAAPh/AAAAAAAA+H8AAAAAAAD4fwAAAAAAAPh/AAAAAAAA+H8AAAAAAAD4fwAAAAAAAPh/AAAAAAAA+H8AAAAAAAD4fwAAAAAAAPh/AAAAAAAA+H8AAAAAAAD4fwAAAAAAAPh/AAAAAAAA+H8AAAAAAAD4fwAAAAAAAPh/AAAAAAAA+H8AAAAAAAD4fwAAAAAAAPh/AAAAAAAA+H8AAAAAAAD4fwAAAAAAAPh/AAAAAAAA+H8=",
          "dtype": "f8",
          "shape": "10, 7"
         },
         "zmax": 244,
         "zmin": 0
        },
        {
         "colorbar": {
          "title": {
           "text": "Avg Delay"
          }
         },
         "colorscale": [
          [
           0,
           "rgb(255,245,240)"
          ],
          [
           0.125,
           "rgb(254,224,210)"
          ],
          [
           0.25,
           "rgb(252,187,161)"
          ],
          [
           0.375,
           "rgb(252,146,114)"
          ],
          [
           0.5,
           "rgb(251,106,74)"
          ],
          [
           0.625,
           "rgb(239,59,44)"
          ],
          [
           0.75,
           "rgb(203,24,29)"
          ],
          [
           0.875,
           "rgb(165,15,21)"
          ],
          [
           1,
           "rgb(103,0,13)"
          ]
         ],
         "type": "heatmap",
         "visible": false,
         "x": [
          "Howrah",
          "Pune",
          "Jammu",
          "RANI KAMLAPATI ",
          "Chennai ",
          " New Delhi",
          "Kanyakumari"
         ],
         "y": [
          "Yesvantpur Jn",
          "Gorakhpur",
          "Varanasi",
          " New Delhi",
          "Howrah",
          "Mumbai",
          " Kolkata",
          "Chennai Egmore",
          "Lucknow",
          "Dibrugarh"
         ],
         "z": {
          "bdata": "AAAAAAAA+H8AAAAAAAD4fwAAAAAAAPh/AAAAAAAA+H8AAAAAAAD4fwAAAAAAAPh/AAAAAAAA+H8AAAAAAAD4fwAAAAAAACRAAAAAAAAA+H8AAAAAAAD4fwAAAAAAAPh/AAAAAAAA+H8AAAAAAAD4fwAAAAAAAPh/AAAAAAAA+H8AAAAAAAD4fwAAAAAAAPh/AAAAAAAA+H8AAAAAAAD4fwAAAAAAAPh/AAAAAAAA+H8AAAAAAAD4fwAAAAAAAPh/AAAAAAAA+H8AAAAAAAD4fwAAAAAAAPh/AAAAAAAA+H8AAAAAAAD4fwAAAAAAAPh/AAAAAAAA+H8AAAAAAAD4fwAAAAAAAPh/AAAAAAAA+H8AAAAAAAD4fwAAAAAAAPh/AAAAAAAA+H8AAAAAAAD4fwAAAAAAAPh/AAAAAAAA+H8AAAAAAAD4fwAAAAAAAPh/AAAAAAAA+H8AAAAAAAD4fwAAAAAAAPh/AAAAAAAA+H8AAAAAAAD4fwAAAAAAAPh/AAAAAAAA+H8AAAAAAAD4fwAAAAAAAPh/AAAAAAAA+H8AAAAAAAD4fwAAAAAAAPh/AAAAAAAA+H8AAAAAAAD4fwAAAAAAAPh/AAAAAAAA+H8AAAAAAAD4fwAAAAAAAPh/AAAAAAAA+H8AAAAAAAD4fwAAAAAAAPh/AAAAAAAA+H8AAAAAAAD4fwAAAAAAAPh/AAAAAAAA+H8AAAAAAAD4fwAAAAAAAPh/AAAAAAAAAAA=",
          "dtype": "f8",
          "shape": "10, 7"
         },
         "zmax": 244,
         "zmin": 0
        },
        {
         "colorbar": {
          "title": {
           "text": "Avg Delay"
          }
         },
         "colorscale": [
          [
           0,
           "rgb(255,245,240)"
          ],
          [
           0.125,
           "rgb(254,224,210)"
          ],
          [
           0.25,
           "rgb(252,187,161)"
          ],
          [
           0.375,
           "rgb(252,146,114)"
          ],
          [
           0.5,
           "rgb(251,106,74)"
          ],
          [
           0.625,
           "rgb(239,59,44)"
          ],
          [
           0.75,
           "rgb(203,24,29)"
          ],
          [
           0.875,
           "rgb(165,15,21)"
          ],
          [
           1,
           "rgb(103,0,13)"
          ]
         ],
         "type": "heatmap",
         "visible": false,
         "x": [
          "Howrah",
          "Pune",
          "Jammu",
          "RANI KAMLAPATI ",
          "Chennai ",
          " New Delhi",
          "Kanyakumari"
         ],
         "y": [
          "Yesvantpur Jn",
          "Gorakhpur",
          "Varanasi",
          " New Delhi",
          "Howrah",
          "Mumbai",
          " Kolkata",
          "Chennai Egmore",
          "Lucknow",
          "Dibrugarh"
         ],
         "z": {
          "bdata": "AAAAAAAA+H8AAAAAAAD4fwAAAAAAAPh/AAAAAAAA+H8AAAAAAAD4fwAAAAAAAPh/AAAAAAAA+H8AAAAAAAD4fwAAAAAAAPh/AAAAAAAA+H8AAAAAAAD4fwAAAAAAAPh/AAAAAAAA+H8AAAAAAAD4fwAAAAAAAPh/AAAAAAAA+H8AAAAAAAAUQAAAAAAAAPh/AAAAAAAA+H8AAAAAAAD4fwAAAAAAAPh/AAAAAAAA+H8AAAAAAAD4fwAAAAAAAPh/AAAAAAAA+H8AAAAAAAD4fwAAAAAAAPh/AAAAAAAA+H8AAAAAAAD4fwAAAAAAAPh/AAAAAAAA+H8AAAAAAAD4fwAAAAAAAPh/AAAAAAAA+H8AAAAAAAD4fwAAAAAAAPh/AAAAAAAA+H8AAAAAAAD4fwAAAAAAAPh/AAAAAAAA+H8AAAAAAAD4fwAAAAAAAPh/AAAAAAAA+H8AAAAAAAD4fwAAAAAAAPh/AAAAAAAA+H8AAAAAAAD4fwAAAAAAAPh/AAAAAAAA+H8AAAAAAAD4fwAAAAAAAPh/AAAAAAAA+H8AAAAAAAD4fwAAAAAAAPh/AAAAAAAA+H8AAAAAAAD4fwAAAAAAAPh/AAAAAAAA+H8AAAAAAAD4fwAAAAAAAPh/AAAAAAAA+H8AAAAAAAD4fwAAAAAAAPh/AAAAAAAA+H8AAAAAAAD4fwAAAAAAAPh/AAAAAAAA+H8AAAAAAAD4fwAAAAAAAPh/AAAAAAAA+H8=",
          "dtype": "f8",
          "shape": "10, 7"
         },
         "zmax": 244,
         "zmin": 0
        },
        {
         "colorbar": {
          "title": {
           "text": "Avg Delay"
          }
         },
         "colorscale": [
          [
           0,
           "rgb(255,245,240)"
          ],
          [
           0.125,
           "rgb(254,224,210)"
          ],
          [
           0.25,
           "rgb(252,187,161)"
          ],
          [
           0.375,
           "rgb(252,146,114)"
          ],
          [
           0.5,
           "rgb(251,106,74)"
          ],
          [
           0.625,
           "rgb(239,59,44)"
          ],
          [
           0.75,
           "rgb(203,24,29)"
          ],
          [
           0.875,
           "rgb(165,15,21)"
          ],
          [
           1,
           "rgb(103,0,13)"
          ]
         ],
         "type": "heatmap",
         "visible": false,
         "x": [
          "Howrah",
          "Pune",
          "Jammu",
          "RANI KAMLAPATI ",
          "Chennai ",
          " New Delhi",
          "Kanyakumari"
         ],
         "y": [
          "Yesvantpur Jn",
          "Gorakhpur",
          "Varanasi",
          " New Delhi",
          "Howrah",
          "Mumbai",
          " Kolkata",
          "Chennai Egmore",
          "Lucknow",
          "Dibrugarh"
         ],
         "z": {
          "bdata": "AAAAAAAAAAAAAAAAAAD4fwAAAAAAAPh/AAAAAAAA+H8AAAAAAAD4fwAAAAAAAPh/AAAAAAAA+H8AAAAAAAD4fwAAAAAAAPh/AAAAAAAA+H8AAAAAAAD4fwAAAAAAAPh/AAAAAAAA+H8AAAAAAAD4fwAAAAAAAPh/AAAAAAAA+H8AAAAAAAD4fwAAAAAAAPh/AAAAAAAA+H8AAAAAAAD4fwAAAAAAAPh/AAAAAAAA+H8AAAAAAAD4fwAAAAAAAPh/AAAAAACARkAAAAAAAAD4fwAAAAAAAPh/AAAAAAAA+H8AAAAAAAD4fwAAAAAAAPh/AAAAAAAA+H8AAAAAAAD4fwAAAAAAAPh/AAAAAAAASUAAAAAAAAD4fwAAAAAAAPh/AAAAAAAA+H8AAAAAAAD4fwAAAAAAAPh/AAAAAAAAPkAAAAAAAAD4fwAAAAAAAPh/AAAAAAAA+H8AAAAAAAD4fwAAAAAAAPh/AAAAAAAA+H8AAAAAAAD4fwAAAAAAADdAAAAAAAAA+H8AAAAAAAD4fwAAAAAAAPh/AAAAAAAA+H8AAAAAAAD4fwAAAAAAAPh/AAAAAAAA+H8AAAAAAIBLQAAAAAAAAPh/AAAAAAAA+H8AAAAAAAD4fwAAAAAAAPh/AAAAAAAA+H8AAAAAAAA3QAAAAAAAAPh/AAAAAAAA+H8AAAAAAAD4fwAAAAAAAPh/AAAAAAAA+H8AAAAAAAD4fwAAAAAAAPh/AAAAAAAA+H8=",
          "dtype": "f8",
          "shape": "10, 7"
         },
         "zmax": 244,
         "zmin": 0
        },
        {
         "colorbar": {
          "title": {
           "text": "Avg Delay"
          }
         },
         "colorscale": [
          [
           0,
           "rgb(255,245,240)"
          ],
          [
           0.125,
           "rgb(254,224,210)"
          ],
          [
           0.25,
           "rgb(252,187,161)"
          ],
          [
           0.375,
           "rgb(252,146,114)"
          ],
          [
           0.5,
           "rgb(251,106,74)"
          ],
          [
           0.625,
           "rgb(239,59,44)"
          ],
          [
           0.75,
           "rgb(203,24,29)"
          ],
          [
           0.875,
           "rgb(165,15,21)"
          ],
          [
           1,
           "rgb(103,0,13)"
          ]
         ],
         "type": "heatmap",
         "visible": false,
         "x": [
          "Howrah",
          "Pune",
          "Jammu",
          "RANI KAMLAPATI ",
          "Chennai ",
          " New Delhi",
          "Kanyakumari"
         ],
         "y": [
          "Yesvantpur Jn",
          "Gorakhpur",
          "Varanasi",
          " New Delhi",
          "Howrah",
          "Mumbai",
          " Kolkata",
          "Chennai Egmore",
          "Lucknow",
          "Dibrugarh"
         ],
         "z": {
          "bdata": "AAAAAAAA+H8AAAAAAAD4fwAAAAAAAPh/AAAAAAAA+H8AAAAAAAD4fwAAAAAAAPh/AAAAAAAA+H8AAAAAAAD4fwAAAAAAAPh/AAAAAAAA+H8AAAAAAAD4fwAAAAAAAPh/AAAAAAAA+H8AAAAAAAD4fwAAAAAAAPh/AAAAAAAA+H8AAAAAAAD4fwAAAAAAAPh/AAAAAAAA+H8AAAAAAAD4fwAAAAAAAPh/AAAAAAAA+H8AAAAAAAD4fwAAAAAAAPh/AAAAAAAA+H8AAAAAAAD4fwAAAAAAAPh/AAAAAAAA+H8AAAAAAAD4fwAAAAAAAPh/AAAAAAAA+H8AAAAAAAD4fwAAAAAAAPh/AAAAAAAA+H8AAAAAAAD4fwAAAAAAAPh/AAAAAAAA+H8AAAAAAAD4fwAAAAAAAPh/AAAAAAAA+H8AAAAAAAD4fwAAAAAAAPh/AAAAAAAA+H8AAAAAAAD4fwAAAAAAAPh/AAAAAAAA+H8AAAAAAAD4fwAAAAAAAPh/AAAAAAAA+H8AAAAAAAD4fwAAAAAAAPh/AAAAAAAA+H8AAAAAAAD4fwAAAAAAAPh/AAAAAAAA+H8AAAAAAAD4fwAAAAAAAPh/AAAAAAAA+H8AAAAAAAD4fwAAAAAAAPh/AAAAAAAA+H8AAAAAAAD4fwAAAAAAAPh/AAAAAAAA+H8AAAAAAAD4fwAAAAAAAPh/AAAAAAAA+H8AAAAAAAD4fwAAAAAAAPh/AAAAAAAA8D8=",
          "dtype": "f8",
          "shape": "10, 7"
         },
         "zmax": 244,
         "zmin": 0
        },
        {
         "colorbar": {
          "title": {
           "text": "Avg Delay"
          }
         },
         "colorscale": [
          [
           0,
           "rgb(255,245,240)"
          ],
          [
           0.125,
           "rgb(254,224,210)"
          ],
          [
           0.25,
           "rgb(252,187,161)"
          ],
          [
           0.375,
           "rgb(252,146,114)"
          ],
          [
           0.5,
           "rgb(251,106,74)"
          ],
          [
           0.625,
           "rgb(239,59,44)"
          ],
          [
           0.75,
           "rgb(203,24,29)"
          ],
          [
           0.875,
           "rgb(165,15,21)"
          ],
          [
           1,
           "rgb(103,0,13)"
          ]
         ],
         "type": "heatmap",
         "visible": false,
         "x": [
          "Howrah",
          "Pune",
          "Jammu",
          "RANI KAMLAPATI ",
          "Chennai ",
          " New Delhi",
          "Kanyakumari"
         ],
         "y": [
          "Yesvantpur Jn",
          "Gorakhpur",
          "Varanasi",
          " New Delhi",
          "Howrah",
          "Mumbai",
          " Kolkata",
          "Chennai Egmore",
          "Lucknow",
          "Dibrugarh"
         ],
         "z": {
          "bdata": "AAAAAAAANEAAAAAAAAD4fwAAAAAAAPh/AAAAAAAA+H8AAAAAAAD4fwAAAAAAAPh/AAAAAAAA+H8AAAAAAAD4fwAAAAAAAF5AAAAAAAAA+H8AAAAAAAD4fwAAAAAAAPh/AAAAAAAA+H8AAAAAAAD4fwAAAAAAAPh/AAAAAAAA+H8AAAAAAABEQAAAAAAAAPh/AAAAAAAA+H8AAAAAAAD4fwAAAAAAAPh/AAAAAAAA+H8AAAAAAAD4fwAAAAAAAPh/AAAAAAAALkAAAAAAAAD4fwAAAAAAAPh/AAAAAAAA+H8AAAAAAAD4fwAAAAAAAPh/AAAAAAAA+H8AAAAAAAD4fwAAAAAAAPh/AAAAAADAUkAAAAAAAAD4fwAAAAAAAPh/AAAAAAAA+H8AAAAAAAD4fwAAAAAAAPh/AAAAAADAUkAAAAAAAAD4fwAAAAAAAPh/AAAAAAAA+H8AAAAAAAD4fwAAAAAAAPh/AAAAAAAA+H8AAAAAAAD4fwAAAAAAACZAAAAAAAAA+H8AAAAAAAD4fwAAAAAAAPh/AAAAAAAA+H8AAAAAAAD4fwAAAAAAAPh/AAAAAAAA+H8AAAAAAIBGQAAAAAAAAPh/AAAAAAAA+H8AAAAAAAD4fwAAAAAAAPh/AAAAAAAA+H8AAAAAAAAsQAAAAAAAAPh/AAAAAAAA+H8AAAAAAAD4fwAAAAAAAPh/AAAAAAAA+H8AAAAAAAD4fwAAAAAAAPh/AAAAAAAA+H8=",
          "dtype": "f8",
          "shape": "10, 7"
         },
         "zmax": 244,
         "zmin": 0
        },
        {
         "colorbar": {
          "title": {
           "text": "Avg Delay"
          }
         },
         "colorscale": [
          [
           0,
           "rgb(255,245,240)"
          ],
          [
           0.125,
           "rgb(254,224,210)"
          ],
          [
           0.25,
           "rgb(252,187,161)"
          ],
          [
           0.375,
           "rgb(252,146,114)"
          ],
          [
           0.5,
           "rgb(251,106,74)"
          ],
          [
           0.625,
           "rgb(239,59,44)"
          ],
          [
           0.75,
           "rgb(203,24,29)"
          ],
          [
           0.875,
           "rgb(165,15,21)"
          ],
          [
           1,
           "rgb(103,0,13)"
          ]
         ],
         "type": "heatmap",
         "visible": false,
         "x": [
          "Howrah",
          "Pune",
          "Jammu",
          "RANI KAMLAPATI ",
          "Chennai ",
          " New Delhi",
          "Kanyakumari"
         ],
         "y": [
          "Yesvantpur Jn",
          "Gorakhpur",
          "Varanasi",
          " New Delhi",
          "Howrah",
          "Mumbai",
          " Kolkata",
          "Chennai Egmore",
          "Lucknow",
          "Dibrugarh"
         ],
         "z": {
          "bdata": "AAAAAAAA+H8AAAAAAAD4fwAAAAAAAPh/AAAAAAAA+H8AAAAAAAD4fwAAAAAAAPh/AAAAAAAA+H8AAAAAAAD4fwAAAAAAAPh/AAAAAAAA+H8AAAAAAAD4fwAAAAAAAPh/AAAAAAAA+H8AAAAAAAD4fwAAAAAAAPh/AAAAAAAA+H8AAAAAAAD4fwAAAAAAAPh/AAAAAAAA+H8AAAAAAAD4fwAAAAAAAPh/AAAAAAAA+H8AAAAAAAD4fwAAAAAAAPh/AAAAAAAA+H8AAAAAAAD4fwAAAAAAAPh/AAAAAAAA+H8AAAAAAAD4fwAAAAAAAPh/AAAAAAAA+H8AAAAAAAD4fwAAAAAAAPh/AAAAAAAA+H8AAAAAAAD4fwAAAAAAAPh/AAAAAAAA+H8AAAAAAAD4fwAAAAAAAPh/AAAAAAAA+H8AAAAAAAD4fwAAAAAAAPh/AAAAAAAA+H8AAAAAAAD4fwAAAAAAAPh/AAAAAAAA+H8AAAAAAAD4fwAAAAAAAPh/AAAAAAAA+H8AAAAAAAD4fwAAAAAAAPh/AAAAAAAA+H8AAAAAAAD4fwAAAAAAAPh/AAAAAAAA+H8AAAAAAAD4fwAAAAAAAPh/AAAAAAAA+H8AAAAAAAD4fwAAAAAAAPh/AAAAAAAA+H8AAAAAAAD4fwAAAAAAAPh/AAAAAAAA+H8AAAAAAAD4fwAAAAAAAPh/AAAAAAAA+H8AAAAAAAD4fwAAAAAAAPh/AAAAAAAAIkA=",
          "dtype": "f8",
          "shape": "10, 7"
         },
         "zmax": 244,
         "zmin": 0
        },
        {
         "colorbar": {
          "title": {
           "text": "Avg Delay"
          }
         },
         "colorscale": [
          [
           0,
           "rgb(255,245,240)"
          ],
          [
           0.125,
           "rgb(254,224,210)"
          ],
          [
           0.25,
           "rgb(252,187,161)"
          ],
          [
           0.375,
           "rgb(252,146,114)"
          ],
          [
           0.5,
           "rgb(251,106,74)"
          ],
          [
           0.625,
           "rgb(239,59,44)"
          ],
          [
           0.75,
           "rgb(203,24,29)"
          ],
          [
           0.875,
           "rgb(165,15,21)"
          ],
          [
           1,
           "rgb(103,0,13)"
          ]
         ],
         "type": "heatmap",
         "visible": false,
         "x": [
          "Howrah",
          "Pune",
          "Jammu",
          "RANI KAMLAPATI ",
          "Chennai ",
          " New Delhi",
          "Kanyakumari"
         ],
         "y": [
          "Yesvantpur Jn",
          "Gorakhpur",
          "Varanasi",
          " New Delhi",
          "Howrah",
          "Mumbai",
          " Kolkata",
          "Chennai Egmore",
          "Lucknow",
          "Dibrugarh"
         ],
         "z": {
          "bdata": "AAAAAAAA+H8AAAAAAAD4fwAAAAAAAPh/AAAAAAAA+H8AAAAAAAD4fwAAAAAAAPh/AAAAAAAA+H8AAAAAAAD4fwAAAAAAAE5AAAAAAAAA+H8AAAAAAAD4fwAAAAAAAPh/AAAAAAAA+H8AAAAAAAD4fwAAAAAAAPh/AAAAAAAA+H8AAAAAAAD4fwAAAAAAAPh/AAAAAAAA+H8AAAAAAAD4fwAAAAAAAPh/AAAAAAAA+H8AAAAAAAD4fwAAAAAAAPh/AAAAAAAA+H8AAAAAAAD4fwAAAAAAAPh/AAAAAAAA+H8AAAAAAAD4fwAAAAAAAPh/AAAAAAAA+H8AAAAAAAD4fwAAAAAAAPh/AAAAAAAA+H8AAAAAAAD4fwAAAAAAAPh/AAAAAAAA+H8AAAAAAAD4fwAAAAAAAPh/AAAAAAAA+H8AAAAAAAD4fwAAAAAAAPh/AAAAAAAA+H8AAAAAAAD4fwAAAAAAAPh/AAAAAAAA+H8AAAAAAAD4fwAAAAAAAPh/AAAAAAAA+H8AAAAAAAD4fwAAAAAAAPh/AAAAAAAA+H8AAAAAAAD4fwAAAAAAAPh/AAAAAAAA+H8AAAAAAAD4fwAAAAAAAPh/AAAAAAAA+H8AAAAAAAD4fwAAAAAAAPh/AAAAAAAA+H8AAAAAAAD4fwAAAAAAAPh/AAAAAAAA+H8AAAAAAAD4fwAAAAAAAPh/AAAAAAAA+H8AAAAAAAD4fwAAAAAAAPh/AAAAAAAA+H8=",
          "dtype": "f8",
          "shape": "10, 7"
         },
         "zmax": 244,
         "zmin": 0
        },
        {
         "colorbar": {
          "title": {
           "text": "Avg Delay"
          }
         },
         "colorscale": [
          [
           0,
           "rgb(255,245,240)"
          ],
          [
           0.125,
           "rgb(254,224,210)"
          ],
          [
           0.25,
           "rgb(252,187,161)"
          ],
          [
           0.375,
           "rgb(252,146,114)"
          ],
          [
           0.5,
           "rgb(251,106,74)"
          ],
          [
           0.625,
           "rgb(239,59,44)"
          ],
          [
           0.75,
           "rgb(203,24,29)"
          ],
          [
           0.875,
           "rgb(165,15,21)"
          ],
          [
           1,
           "rgb(103,0,13)"
          ]
         ],
         "type": "heatmap",
         "visible": false,
         "x": [
          "Howrah",
          "Pune",
          "Jammu",
          "RANI KAMLAPATI ",
          "Chennai ",
          " New Delhi",
          "Kanyakumari"
         ],
         "y": [
          "Yesvantpur Jn",
          "Gorakhpur",
          "Varanasi",
          " New Delhi",
          "Howrah",
          "Mumbai",
          " Kolkata",
          "Chennai Egmore",
          "Lucknow",
          "Dibrugarh"
         ],
         "z": {
          "bdata": "AAAAAACAbkAAAAAAAAD4fwAAAAAAAPh/AAAAAAAA+H8AAAAAAAD4fwAAAAAAAPh/AAAAAAAA+H8AAAAAAAD4fwAAAAAAAPh/AAAAAAAA+H8AAAAAAAD4fwAAAAAAAPh/AAAAAAAA+H8AAAAAAAD4fwAAAAAAAPh/AAAAAAAA+H8AAAAAAIBWQAAAAAAAAPh/AAAAAAAA+H8AAAAAAAD4fwAAAAAAAPh/AAAAAAAA+H8AAAAAAAD4fwAAAAAAAPh/AAAAAAAATkAAAAAAAAD4fwAAAAAAAPh/AAAAAAAA+H8AAAAAAAD4fwAAAAAAAPh/AAAAAAAA+H8AAAAAAAD4fwAAAAAAAPh/AAAAAAAAJEAAAAAAAAD4fwAAAAAAAPh/AAAAAAAA+H8AAAAAAAD4fwAAAAAAAPh/AAAAAADAUkAAAAAAAAD4fwAAAAAAAPh/AAAAAAAA+H8AAAAAAAD4fwAAAAAAAPh/AAAAAAAA+H8AAAAAAAD4fwAAAAAAAAAAAAAAAAAA+H8AAAAAAAD4fwAAAAAAAPh/AAAAAAAA+H8AAAAAAAD4fwAAAAAAAPh/AAAAAAAA+H8AAAAAAEBQQAAAAAAAAPh/AAAAAAAA+H8AAAAAAAD4fwAAAAAAAPh/AAAAAAAA+H8AAAAAAAA9QAAAAAAAAPh/AAAAAAAA+H8AAAAAAAD4fwAAAAAAAPh/AAAAAAAA+H8AAAAAAAD4fwAAAAAAAPh/AAAAAAAA+H8=",
          "dtype": "f8",
          "shape": "10, 7"
         },
         "zmax": 244,
         "zmin": 0
        },
        {
         "colorbar": {
          "title": {
           "text": "Avg Delay"
          }
         },
         "colorscale": [
          [
           0,
           "rgb(255,245,240)"
          ],
          [
           0.125,
           "rgb(254,224,210)"
          ],
          [
           0.25,
           "rgb(252,187,161)"
          ],
          [
           0.375,
           "rgb(252,146,114)"
          ],
          [
           0.5,
           "rgb(251,106,74)"
          ],
          [
           0.625,
           "rgb(239,59,44)"
          ],
          [
           0.75,
           "rgb(203,24,29)"
          ],
          [
           0.875,
           "rgb(165,15,21)"
          ],
          [
           1,
           "rgb(103,0,13)"
          ]
         ],
         "type": "heatmap",
         "visible": false,
         "x": [
          "Howrah",
          "Pune",
          "Jammu",
          "RANI KAMLAPATI ",
          "Chennai ",
          " New Delhi",
          "Kanyakumari"
         ],
         "y": [
          "Yesvantpur Jn",
          "Gorakhpur",
          "Varanasi",
          " New Delhi",
          "Howrah",
          "Mumbai",
          " Kolkata",
          "Chennai Egmore",
          "Lucknow",
          "Dibrugarh"
         ],
         "z": {
          "bdata": "AAAAAACAZ0AAAAAAAAD4fwAAAAAAAPh/AAAAAAAA+H8AAAAAAAD4fwAAAAAAAPh/AAAAAAAA+H8AAAAAAAD4fwAAAAAAAPh/AAAAAAAA+H8AAAAAAAD4fwAAAAAAAPh/AAAAAAAA+H8AAAAAAAD4fwAAAAAAAPh/AAAAAAAA+H8AAAAAAAAuQAAAAAAAAPh/AAAAAAAA+H8AAAAAAAD4fwAAAAAAAPh/AAAAAAAA+H8AAAAAAAD4fwAAAAAAAPh/AAAAAAAANEAAAAAAAAD4fwAAAAAAAPh/AAAAAAAA+H8AAAAAAAD4fwAAAAAAAPh/AAAAAAAA+H8AAAAAAAD4fwAAAAAAAPh/AAAAAAAATkAAAAAAAAD4fwAAAAAAAPh/AAAAAAAA+H8AAAAAAAD4fwAAAAAAAPh/AAAAAAAAFEAAAAAAAAD4fwAAAAAAAPh/AAAAAAAA+H8AAAAAAAD4fwAAAAAAAPh/AAAAAAAA+H8AAAAAAAD4fwAAAAAAAFlAAAAAAAAA+H8AAAAAAAD4fwAAAAAAAPh/AAAAAAAA+H8AAAAAAAD4fwAAAAAAAPh/AAAAAAAA+H8AAAAAAAAAAAAAAAAAAPh/AAAAAAAA+H8AAAAAAAD4fwAAAAAAAPh/AAAAAAAA+H8AAAAAAAA0QAAAAAAAAPh/AAAAAAAA+H8AAAAAAAD4fwAAAAAAAPh/AAAAAAAA+H8AAAAAAAD4fwAAAAAAAPh/AAAAAAAANkA=",
          "dtype": "f8",
          "shape": "10, 7"
         },
         "zmax": 244,
         "zmin": 0
        },
        {
         "colorbar": {
          "title": {
           "text": "Avg Delay"
          }
         },
         "colorscale": [
          [
           0,
           "rgb(255,245,240)"
          ],
          [
           0.125,
           "rgb(254,224,210)"
          ],
          [
           0.25,
           "rgb(252,187,161)"
          ],
          [
           0.375,
           "rgb(252,146,114)"
          ],
          [
           0.5,
           "rgb(251,106,74)"
          ],
          [
           0.625,
           "rgb(239,59,44)"
          ],
          [
           0.75,
           "rgb(203,24,29)"
          ],
          [
           0.875,
           "rgb(165,15,21)"
          ],
          [
           1,
           "rgb(103,0,13)"
          ]
         ],
         "type": "heatmap",
         "visible": false,
         "x": [
          "Howrah",
          "Pune",
          "Jammu",
          "RANI KAMLAPATI ",
          "Chennai ",
          " New Delhi",
          "Kanyakumari"
         ],
         "y": [
          "Yesvantpur Jn",
          "Gorakhpur",
          "Varanasi",
          " New Delhi",
          "Howrah",
          "Mumbai",
          " Kolkata",
          "Chennai Egmore",
          "Lucknow",
          "Dibrugarh"
         ],
         "z": {
          "bdata": "AAAAAAAA+H8AAAAAAAD4fwAAAAAAAPh/AAAAAAAA+H8AAAAAAAD4fwAAAAAAAPh/AAAAAAAA+H8AAAAAAAD4fwAAAAAAgEFAAAAAAAAA+H8AAAAAAAD4fwAAAAAAAPh/AAAAAAAA+H8AAAAAAAD4fwAAAAAAAPh/AAAAAAAA+H8AAAAAAAD4fwAAAAAAAPh/AAAAAAAA+H8AAAAAAAD4fwAAAAAAAPh/AAAAAAAA+H8AAAAAAAD4fwAAAAAAAPh/AAAAAAAA+H8AAAAAAAD4fwAAAAAAAPh/AAAAAAAA+H8AAAAAAAD4fwAAAAAAAPh/AAAAAAAA+H8AAAAAAAD4fwAAAAAAAPh/AAAAAAAA+H8AAAAAAAD4fwAAAAAAAPh/AAAAAAAA+H8AAAAAAAD4fwAAAAAAAPh/AAAAAAAA+H8AAAAAAAD4fwAAAAAAAPh/AAAAAAAA+H8AAAAAAAD4fwAAAAAAAPh/AAAAAAAA+H8AAAAAAAD4fwAAAAAAAPh/AAAAAAAA+H8AAAAAAAD4fwAAAAAAAPh/AAAAAAAA+H8AAAAAAAD4fwAAAAAAAPh/AAAAAAAA+H8AAAAAAAD4fwAAAAAAAPh/AAAAAAAA+H8AAAAAAAD4fwAAAAAAAPh/AAAAAAAA+H8AAAAAAAD4fwAAAAAAAPh/AAAAAAAA+H8AAAAAAAD4fwAAAAAAAPh/AAAAAAAA+H8AAAAAAAD4fwAAAAAAAPh/AAAAAAAA+H8=",
          "dtype": "f8",
          "shape": "10, 7"
         },
         "zmax": 244,
         "zmin": 0
        },
        {
         "colorbar": {
          "title": {
           "text": "Avg Delay"
          }
         },
         "colorscale": [
          [
           0,
           "rgb(255,245,240)"
          ],
          [
           0.125,
           "rgb(254,224,210)"
          ],
          [
           0.25,
           "rgb(252,187,161)"
          ],
          [
           0.375,
           "rgb(252,146,114)"
          ],
          [
           0.5,
           "rgb(251,106,74)"
          ],
          [
           0.625,
           "rgb(239,59,44)"
          ],
          [
           0.75,
           "rgb(203,24,29)"
          ],
          [
           0.875,
           "rgb(165,15,21)"
          ],
          [
           1,
           "rgb(103,0,13)"
          ]
         ],
         "type": "heatmap",
         "visible": false,
         "x": [
          "Howrah",
          "Pune",
          "Jammu",
          "RANI KAMLAPATI ",
          "Chennai ",
          " New Delhi",
          "Kanyakumari"
         ],
         "y": [
          "Yesvantpur Jn",
          "Gorakhpur",
          "Varanasi",
          " New Delhi",
          "Howrah",
          "Mumbai",
          " Kolkata",
          "Chennai Egmore",
          "Lucknow",
          "Dibrugarh"
         ],
         "z": {
          "bdata": "AAAAAAAATkAAAAAAAAD4fwAAAAAAAPh/AAAAAAAA+H8AAAAAAAD4fwAAAAAAAPh/AAAAAAAA+H8AAAAAAAD4fwAAAAAAAPh/AAAAAAAA+H8AAAAAAAD4fwAAAAAAAPh/AAAAAAAA+H8AAAAAAAD4fwAAAAAAAPh/AAAAAAAA+H8AAAAAAABJQAAAAAAAAPh/AAAAAAAA+H8AAAAAAAD4fwAAAAAAAPh/AAAAAAAA+H8AAAAAAAD4fwAAAAAAAPh/AAAAAAAAIkAAAAAAAAD4fwAAAAAAAPh/AAAAAAAA+H8AAAAAAAD4fwAAAAAAAPh/AAAAAAAA+H8AAAAAAAD4fwAAAAAAAPh/AAAAAAAAOUAAAAAAAAD4fwAAAAAAAPh/AAAAAAAA+H8AAAAAAAD4fwAAAAAAAPh/AAAAAAAAREAAAAAAAAD4fwAAAAAAAPh/AAAAAAAA+H8AAAAAAAD4fwAAAAAAAPh/AAAAAAAA+H8AAAAAAAD4fwAAAAAAADlAAAAAAAAA+H8AAAAAAAD4fwAAAAAAAPh/AAAAAAAA+H8AAAAAAAD4fwAAAAAAAPh/AAAAAAAA+H8AAAAAAIBDQAAAAAAAAPh/AAAAAAAA+H8AAAAAAAD4fwAAAAAAAPh/AAAAAAAA+H8AAAAAAABBQAAAAAAAAPh/AAAAAAAA+H8AAAAAAAD4fwAAAAAAAPh/AAAAAAAA+H8AAAAAAAD4fwAAAAAAAPh/AAAAAAAAP0A=",
          "dtype": "f8",
          "shape": "10, 7"
         },
         "zmax": 244,
         "zmin": 0
        },
        {
         "colorbar": {
          "title": {
           "text": "Avg Delay"
          }
         },
         "colorscale": [
          [
           0,
           "rgb(255,245,240)"
          ],
          [
           0.125,
           "rgb(254,224,210)"
          ],
          [
           0.25,
           "rgb(252,187,161)"
          ],
          [
           0.375,
           "rgb(252,146,114)"
          ],
          [
           0.5,
           "rgb(251,106,74)"
          ],
          [
           0.625,
           "rgb(239,59,44)"
          ],
          [
           0.75,
           "rgb(203,24,29)"
          ],
          [
           0.875,
           "rgb(165,15,21)"
          ],
          [
           1,
           "rgb(103,0,13)"
          ]
         ],
         "type": "heatmap",
         "visible": false,
         "x": [
          "Howrah",
          "Pune",
          "Jammu",
          "RANI KAMLAPATI ",
          "Chennai ",
          " New Delhi",
          "Kanyakumari"
         ],
         "y": [
          "Yesvantpur Jn",
          "Gorakhpur",
          "Varanasi",
          " New Delhi",
          "Howrah",
          "Mumbai",
          " Kolkata",
          "Chennai Egmore",
          "Lucknow",
          "Dibrugarh"
         ],
         "z": {
          "bdata": "AAAAAAAA+H8AAAAAAAD4fwAAAAAAAPh/AAAAAAAA+H8AAAAAAAD4fwAAAAAAAPh/AAAAAAAA+H8AAAAAAAD4fwAAAAAAwFJAAAAAAAAA+H8AAAAAAAD4fwAAAAAAAPh/AAAAAAAA+H8AAAAAAAD4fwAAAAAAAPh/AAAAAAAA+H8AAAAAAAD4fwAAAAAAAPh/AAAAAAAA+H8AAAAAAAD4fwAAAAAAAPh/AAAAAAAA+H8AAAAAAAD4fwAAAAAAAPh/AAAAAAAA+H8AAAAAAAD4fwAAAAAAAPh/AAAAAAAA+H8AAAAAAAD4fwAAAAAAAPh/AAAAAAAA+H8AAAAAAAD4fwAAAAAAAPh/AAAAAAAA+H8AAAAAAAD4fwAAAAAAAPh/AAAAAAAA+H8AAAAAAAD4fwAAAAAAAPh/AAAAAAAA+H8AAAAAAAD4fwAAAAAAAPh/AAAAAAAA+H8AAAAAAAD4fwAAAAAAAPh/AAAAAAAA+H8AAAAAAAD4fwAAAAAAAPh/AAAAAAAA+H8AAAAAAAD4fwAAAAAAAPh/AAAAAAAA+H8AAAAAAAD4fwAAAAAAAPh/AAAAAAAA+H8AAAAAAAD4fwAAAAAAAPh/AAAAAAAA+H8AAAAAAAD4fwAAAAAAAPh/AAAAAAAA+H8AAAAAAAD4fwAAAAAAAPh/AAAAAAAA+H8AAAAAAAD4fwAAAAAAAPh/AAAAAAAA+H8AAAAAAAD4fwAAAAAAAPh/AAAAAAAA+H8=",
          "dtype": "f8",
          "shape": "10, 7"
         },
         "zmax": 244,
         "zmin": 0
        }
       ],
       "layout": {
        "height": 700,
        "template": {
         "data": {
          "bar": [
           {
            "error_x": {
             "color": "#2a3f5f"
            },
            "error_y": {
             "color": "#2a3f5f"
            },
            "marker": {
             "line": {
              "color": "#E5ECF6",
              "width": 0.5
             },
             "pattern": {
              "fillmode": "overlay",
              "size": 10,
              "solidity": 0.2
             }
            },
            "type": "bar"
           }
          ],
          "barpolar": [
           {
            "marker": {
             "line": {
              "color": "#E5ECF6",
              "width": 0.5
             },
             "pattern": {
              "fillmode": "overlay",
              "size": 10,
              "solidity": 0.2
             }
            },
            "type": "barpolar"
           }
          ],
          "carpet": [
           {
            "aaxis": {
             "endlinecolor": "#2a3f5f",
             "gridcolor": "white",
             "linecolor": "white",
             "minorgridcolor": "white",
             "startlinecolor": "#2a3f5f"
            },
            "baxis": {
             "endlinecolor": "#2a3f5f",
             "gridcolor": "white",
             "linecolor": "white",
             "minorgridcolor": "white",
             "startlinecolor": "#2a3f5f"
            },
            "type": "carpet"
           }
          ],
          "choropleth": [
           {
            "colorbar": {
             "outlinewidth": 0,
             "ticks": ""
            },
            "type": "choropleth"
           }
          ],
          "contour": [
           {
            "colorbar": {
             "outlinewidth": 0,
             "ticks": ""
            },
            "colorscale": [
             [
              0,
              "#0d0887"
             ],
             [
              0.1111111111111111,
              "#46039f"
             ],
             [
              0.2222222222222222,
              "#7201a8"
             ],
             [
              0.3333333333333333,
              "#9c179e"
             ],
             [
              0.4444444444444444,
              "#bd3786"
             ],
             [
              0.5555555555555556,
              "#d8576b"
             ],
             [
              0.6666666666666666,
              "#ed7953"
             ],
             [
              0.7777777777777778,
              "#fb9f3a"
             ],
             [
              0.8888888888888888,
              "#fdca26"
             ],
             [
              1,
              "#f0f921"
             ]
            ],
            "type": "contour"
           }
          ],
          "contourcarpet": [
           {
            "colorbar": {
             "outlinewidth": 0,
             "ticks": ""
            },
            "type": "contourcarpet"
           }
          ],
          "heatmap": [
           {
            "colorbar": {
             "outlinewidth": 0,
             "ticks": ""
            },
            "colorscale": [
             [
              0,
              "#0d0887"
             ],
             [
              0.1111111111111111,
              "#46039f"
             ],
             [
              0.2222222222222222,
              "#7201a8"
             ],
             [
              0.3333333333333333,
              "#9c179e"
             ],
             [
              0.4444444444444444,
              "#bd3786"
             ],
             [
              0.5555555555555556,
              "#d8576b"
             ],
             [
              0.6666666666666666,
              "#ed7953"
             ],
             [
              0.7777777777777778,
              "#fb9f3a"
             ],
             [
              0.8888888888888888,
              "#fdca26"
             ],
             [
              1,
              "#f0f921"
             ]
            ],
            "type": "heatmap"
           }
          ],
          "histogram": [
           {
            "marker": {
             "pattern": {
              "fillmode": "overlay",
              "size": 10,
              "solidity": 0.2
             }
            },
            "type": "histogram"
           }
          ],
          "histogram2d": [
           {
            "colorbar": {
             "outlinewidth": 0,
             "ticks": ""
            },
            "colorscale": [
             [
              0,
              "#0d0887"
             ],
             [
              0.1111111111111111,
              "#46039f"
             ],
             [
              0.2222222222222222,
              "#7201a8"
             ],
             [
              0.3333333333333333,
              "#9c179e"
             ],
             [
              0.4444444444444444,
              "#bd3786"
             ],
             [
              0.5555555555555556,
              "#d8576b"
             ],
             [
              0.6666666666666666,
              "#ed7953"
             ],
             [
              0.7777777777777778,
              "#fb9f3a"
             ],
             [
              0.8888888888888888,
              "#fdca26"
             ],
             [
              1,
              "#f0f921"
             ]
            ],
            "type": "histogram2d"
           }
          ],
          "histogram2dcontour": [
           {
            "colorbar": {
             "outlinewidth": 0,
             "ticks": ""
            },
            "colorscale": [
             [
              0,
              "#0d0887"
             ],
             [
              0.1111111111111111,
              "#46039f"
             ],
             [
              0.2222222222222222,
              "#7201a8"
             ],
             [
              0.3333333333333333,
              "#9c179e"
             ],
             [
              0.4444444444444444,
              "#bd3786"
             ],
             [
              0.5555555555555556,
              "#d8576b"
             ],
             [
              0.6666666666666666,
              "#ed7953"
             ],
             [
              0.7777777777777778,
              "#fb9f3a"
             ],
             [
              0.8888888888888888,
              "#fdca26"
             ],
             [
              1,
              "#f0f921"
             ]
            ],
            "type": "histogram2dcontour"
           }
          ],
          "mesh3d": [
           {
            "colorbar": {
             "outlinewidth": 0,
             "ticks": ""
            },
            "type": "mesh3d"
           }
          ],
          "parcoords": [
           {
            "line": {
             "colorbar": {
              "outlinewidth": 0,
              "ticks": ""
             }
            },
            "type": "parcoords"
           }
          ],
          "pie": [
           {
            "automargin": true,
            "type": "pie"
           }
          ],
          "scatter": [
           {
            "fillpattern": {
             "fillmode": "overlay",
             "size": 10,
             "solidity": 0.2
            },
            "type": "scatter"
           }
          ],
          "scatter3d": [
           {
            "line": {
             "colorbar": {
              "outlinewidth": 0,
              "ticks": ""
             }
            },
            "marker": {
             "colorbar": {
              "outlinewidth": 0,
              "ticks": ""
             }
            },
            "type": "scatter3d"
           }
          ],
          "scattercarpet": [
           {
            "marker": {
             "colorbar": {
              "outlinewidth": 0,
              "ticks": ""
             }
            },
            "type": "scattercarpet"
           }
          ],
          "scattergeo": [
           {
            "marker": {
             "colorbar": {
              "outlinewidth": 0,
              "ticks": ""
             }
            },
            "type": "scattergeo"
           }
          ],
          "scattergl": [
           {
            "marker": {
             "colorbar": {
              "outlinewidth": 0,
              "ticks": ""
             }
            },
            "type": "scattergl"
           }
          ],
          "scattermap": [
           {
            "marker": {
             "colorbar": {
              "outlinewidth": 0,
              "ticks": ""
             }
            },
            "type": "scattermap"
           }
          ],
          "scattermapbox": [
           {
            "marker": {
             "colorbar": {
              "outlinewidth": 0,
              "ticks": ""
             }
            },
            "type": "scattermapbox"
           }
          ],
          "scatterpolar": [
           {
            "marker": {
             "colorbar": {
              "outlinewidth": 0,
              "ticks": ""
             }
            },
            "type": "scatterpolar"
           }
          ],
          "scatterpolargl": [
           {
            "marker": {
             "colorbar": {
              "outlinewidth": 0,
              "ticks": ""
             }
            },
            "type": "scatterpolargl"
           }
          ],
          "scatterternary": [
           {
            "marker": {
             "colorbar": {
              "outlinewidth": 0,
              "ticks": ""
             }
            },
            "type": "scatterternary"
           }
          ],
          "surface": [
           {
            "colorbar": {
             "outlinewidth": 0,
             "ticks": ""
            },
            "colorscale": [
             [
              0,
              "#0d0887"
             ],
             [
              0.1111111111111111,
              "#46039f"
             ],
             [
              0.2222222222222222,
              "#7201a8"
             ],
             [
              0.3333333333333333,
              "#9c179e"
             ],
             [
              0.4444444444444444,
              "#bd3786"
             ],
             [
              0.5555555555555556,
              "#d8576b"
             ],
             [
              0.6666666666666666,
              "#ed7953"
             ],
             [
              0.7777777777777778,
              "#fb9f3a"
             ],
             [
              0.8888888888888888,
              "#fdca26"
             ],
             [
              1,
              "#f0f921"
             ]
            ],
            "type": "surface"
           }
          ],
          "table": [
           {
            "cells": {
             "fill": {
              "color": "#EBF0F8"
             },
             "line": {
              "color": "white"
             }
            },
            "header": {
             "fill": {
              "color": "#C8D4E3"
             },
             "line": {
              "color": "white"
             }
            },
            "type": "table"
           }
          ]
         },
         "layout": {
          "annotationdefaults": {
           "arrowcolor": "#2a3f5f",
           "arrowhead": 0,
           "arrowwidth": 1
          },
          "autotypenumbers": "strict",
          "coloraxis": {
           "colorbar": {
            "outlinewidth": 0,
            "ticks": ""
           }
          },
          "colorscale": {
           "diverging": [
            [
             0,
             "#8e0152"
            ],
            [
             0.1,
             "#c51b7d"
            ],
            [
             0.2,
             "#de77ae"
            ],
            [
             0.3,
             "#f1b6da"
            ],
            [
             0.4,
             "#fde0ef"
            ],
            [
             0.5,
             "#f7f7f7"
            ],
            [
             0.6,
             "#e6f5d0"
            ],
            [
             0.7,
             "#b8e186"
            ],
            [
             0.8,
             "#7fbc41"
            ],
            [
             0.9,
             "#4d9221"
            ],
            [
             1,
             "#276419"
            ]
           ],
           "sequential": [
            [
             0,
             "#0d0887"
            ],
            [
             0.1111111111111111,
             "#46039f"
            ],
            [
             0.2222222222222222,
             "#7201a8"
            ],
            [
             0.3333333333333333,
             "#9c179e"
            ],
            [
             0.4444444444444444,
             "#bd3786"
            ],
            [
             0.5555555555555556,
             "#d8576b"
            ],
            [
             0.6666666666666666,
             "#ed7953"
            ],
            [
             0.7777777777777778,
             "#fb9f3a"
            ],
            [
             0.8888888888888888,
             "#fdca26"
            ],
            [
             1,
             "#f0f921"
            ]
           ],
           "sequentialminus": [
            [
             0,
             "#0d0887"
            ],
            [
             0.1111111111111111,
             "#46039f"
            ],
            [
             0.2222222222222222,
             "#7201a8"
            ],
            [
             0.3333333333333333,
             "#9c179e"
            ],
            [
             0.4444444444444444,
             "#bd3786"
            ],
            [
             0.5555555555555556,
             "#d8576b"
            ],
            [
             0.6666666666666666,
             "#ed7953"
            ],
            [
             0.7777777777777778,
             "#fb9f3a"
            ],
            [
             0.8888888888888888,
             "#fdca26"
            ],
            [
             1,
             "#f0f921"
            ]
           ]
          },
          "colorway": [
           "#636efa",
           "#EF553B",
           "#00cc96",
           "#ab63fa",
           "#FFA15A",
           "#19d3f3",
           "#FF6692",
           "#B6E880",
           "#FF97FF",
           "#FECB52"
          ],
          "font": {
           "color": "#2a3f5f"
          },
          "geo": {
           "bgcolor": "white",
           "lakecolor": "white",
           "landcolor": "#E5ECF6",
           "showlakes": true,
           "showland": true,
           "subunitcolor": "white"
          },
          "hoverlabel": {
           "align": "left"
          },
          "hovermode": "closest",
          "mapbox": {
           "style": "light"
          },
          "paper_bgcolor": "white",
          "plot_bgcolor": "#E5ECF6",
          "polar": {
           "angularaxis": {
            "gridcolor": "white",
            "linecolor": "white",
            "ticks": ""
           },
           "bgcolor": "#E5ECF6",
           "radialaxis": {
            "gridcolor": "white",
            "linecolor": "white",
            "ticks": ""
           }
          },
          "scene": {
           "xaxis": {
            "backgroundcolor": "#E5ECF6",
            "gridcolor": "white",
            "gridwidth": 2,
            "linecolor": "white",
            "showbackground": true,
            "ticks": "",
            "zerolinecolor": "white"
           },
           "yaxis": {
            "backgroundcolor": "#E5ECF6",
            "gridcolor": "white",
            "gridwidth": 2,
            "linecolor": "white",
            "showbackground": true,
            "ticks": "",
            "zerolinecolor": "white"
           },
           "zaxis": {
            "backgroundcolor": "#E5ECF6",
            "gridcolor": "white",
            "gridwidth": 2,
            "linecolor": "white",
            "showbackground": true,
            "ticks": "",
            "zerolinecolor": "white"
           }
          },
          "shapedefaults": {
           "line": {
            "color": "#2a3f5f"
           }
          },
          "ternary": {
           "aaxis": {
            "gridcolor": "white",
            "linecolor": "white",
            "ticks": ""
           },
           "baxis": {
            "gridcolor": "white",
            "linecolor": "white",
            "ticks": ""
           },
           "bgcolor": "#E5ECF6",
           "caxis": {
            "gridcolor": "white",
            "linecolor": "white",
            "ticks": ""
           }
          },
          "title": {
           "x": 0.05
          },
          "xaxis": {
           "automargin": true,
           "gridcolor": "white",
           "linecolor": "white",
           "ticks": "",
           "title": {
            "standoff": 15
           },
           "zerolinecolor": "white",
           "zerolinewidth": 2
          },
          "yaxis": {
           "automargin": true,
           "gridcolor": "white",
           "linecolor": "white",
           "ticks": "",
           "title": {
            "standoff": 15
           },
           "zerolinecolor": "white",
           "zerolinewidth": 2
          }
         }
        },
        "title": {
         "text": "Average Train Delay: Year 2016 - Week 5"
        },
        "updatemenus": [
         {
          "active": 0,
          "buttons": [
           {
            "args": [
             {
              "visible": [
               true,
               false,
               false,
               false,
               false,
               false,
               false,
               false,
               false,
               false,
               false,
               false,
               false,
               false,
               false,
               false,
               false,
               false,
               false,
               false,
               false,
               false
              ]
             },
             {
              "title": "Average Train Delay: Year 2016 - Week 5"
             }
            ],
            "label": "Year 2016 - Week 5",
            "method": "update"
           },
           {
            "args": [
             {
              "visible": [
               false,
               true,
               false,
               false,
               false,
               false,
               false,
               false,
               false,
               false,
               false,
               false,
               false,
               false,
               false,
               false,
               false,
               false,
               false,
               false,
               false,
               false
              ]
             },
             {
              "title": "Average Train Delay: Year 2016 - Week 53"
             }
            ],
            "label": "Year 2016 - Week 53",
            "method": "update"
           },
           {
            "args": [
             {
              "visible": [
               false,
               false,
               true,
               false,
               false,
               false,
               false,
               false,
               false,
               false,
               false,
               false,
               false,
               false,
               false,
               false,
               false,
               false,
               false,
               false,
               false,
               false
              ]
             },
             {
              "title": "Average Train Delay: Year 2017 - Week 26"
             }
            ],
            "label": "Year 2017 - Week 26",
            "method": "update"
           },
           {
            "args": [
             {
              "visible": [
               false,
               false,
               false,
               true,
               false,
               false,
               false,
               false,
               false,
               false,
               false,
               false,
               false,
               false,
               false,
               false,
               false,
               false,
               false,
               false,
               false,
               false
              ]
             },
             {
              "title": "Average Train Delay: Year 2017 - Week 52"
             }
            ],
            "label": "Year 2017 - Week 52",
            "method": "update"
           },
           {
            "args": [
             {
              "visible": [
               false,
               false,
               false,
               false,
               true,
               false,
               false,
               false,
               false,
               false,
               false,
               false,
               false,
               false,
               false,
               false,
               false,
               false,
               false,
               false,
               false,
               false
              ]
             },
             {
              "title": "Average Train Delay: Year 2018 - Week 1"
             }
            ],
            "label": "Year 2018 - Week 1",
            "method": "update"
           },
           {
            "args": [
             {
              "visible": [
               false,
               false,
               false,
               false,
               false,
               true,
               false,
               false,
               false,
               false,
               false,
               false,
               false,
               false,
               false,
               false,
               false,
               false,
               false,
               false,
               false,
               false
              ]
             },
             {
              "title": "Average Train Delay: Year 2018 - Week 22"
             }
            ],
            "label": "Year 2018 - Week 22",
            "method": "update"
           },
           {
            "args": [
             {
              "visible": [
               false,
               false,
               false,
               false,
               false,
               false,
               true,
               false,
               false,
               false,
               false,
               false,
               false,
               false,
               false,
               false,
               false,
               false,
               false,
               false,
               false,
               false
              ]
             },
             {
              "title": "Average Train Delay: Year 2019 - Week 1"
             }
            ],
            "label": "Year 2019 - Week 1",
            "method": "update"
           },
           {
            "args": [
             {
              "visible": [
               false,
               false,
               false,
               false,
               false,
               false,
               false,
               true,
               false,
               false,
               false,
               false,
               false,
               false,
               false,
               false,
               false,
               false,
               false,
               false,
               false,
               false
              ]
             },
             {
              "title": "Average Train Delay: Year 2019 - Week 18"
             }
            ],
            "label": "Year 2019 - Week 18",
            "method": "update"
           },
           {
            "args": [
             {
              "visible": [
               false,
               false,
               false,
               false,
               false,
               false,
               false,
               false,
               true,
               false,
               false,
               false,
               false,
               false,
               false,
               false,
               false,
               false,
               false,
               false,
               false,
               false
              ]
             },
             {
              "title": "Average Train Delay: Year 2020 - Week 1"
             }
            ],
            "label": "Year 2020 - Week 1",
            "method": "update"
           },
           {
            "args": [
             {
              "visible": [
               false,
               false,
               false,
               false,
               false,
               false,
               false,
               false,
               false,
               true,
               false,
               false,
               false,
               false,
               false,
               false,
               false,
               false,
               false,
               false,
               false,
               false
              ]
             },
             {
              "title": "Average Train Delay: Year 2020 - Week 14"
             }
            ],
            "label": "Year 2020 - Week 14",
            "method": "update"
           },
           {
            "args": [
             {
              "visible": [
               false,
               false,
               false,
               false,
               false,
               false,
               false,
               false,
               false,
               false,
               true,
               false,
               false,
               false,
               false,
               false,
               false,
               false,
               false,
               false,
               false,
               false
              ]
             },
             {
              "title": "Average Train Delay: Year 2021 - Week 5"
             }
            ],
            "label": "Year 2021 - Week 5",
            "method": "update"
           },
           {
            "args": [
             {
              "visible": [
               false,
               false,
               false,
               false,
               false,
               false,
               false,
               false,
               false,
               false,
               false,
               true,
               false,
               false,
               false,
               false,
               false,
               false,
               false,
               false,
               false,
               false
              ]
             },
             {
              "title": "Average Train Delay: Year 2021 - Week 26"
             }
            ],
            "label": "Year 2021 - Week 26",
            "method": "update"
           },
           {
            "args": [
             {
              "visible": [
               false,
               false,
               false,
               false,
               false,
               false,
               false,
               false,
               false,
               false,
               false,
               false,
               true,
               false,
               false,
               false,
               false,
               false,
               false,
               false,
               false,
               false
              ]
             },
             {
              "title": "Average Train Delay: Year 2021 - Week 53"
             }
            ],
            "label": "Year 2021 - Week 53",
            "method": "update"
           },
           {
            "args": [
             {
              "visible": [
               false,
               false,
               false,
               false,
               false,
               false,
               false,
               false,
               false,
               false,
               false,
               false,
               false,
               true,
               false,
               false,
               false,
               false,
               false,
               false,
               false,
               false
              ]
             },
             {
              "title": "Average Train Delay: Year 2022 - Week 9"
             }
            ],
            "label": "Year 2022 - Week 9",
            "method": "update"
           },
           {
            "args": [
             {
              "visible": [
               false,
               false,
               false,
               false,
               false,
               false,
               false,
               false,
               false,
               false,
               false,
               false,
               false,
               false,
               true,
               false,
               false,
               false,
               false,
               false,
               false,
               false
              ]
             },
             {
              "title": "Average Train Delay: Year 2022 - Week 52"
             }
            ],
            "label": "Year 2022 - Week 52",
            "method": "update"
           },
           {
            "args": [
             {
              "visible": [
               false,
               false,
               false,
               false,
               false,
               false,
               false,
               false,
               false,
               false,
               false,
               false,
               false,
               false,
               false,
               true,
               false,
               false,
               false,
               false,
               false,
               false
              ]
             },
             {
              "title": "Average Train Delay: Year 2023 - Week 13"
             }
            ],
            "label": "Year 2023 - Week 13",
            "method": "update"
           },
           {
            "args": [
             {
              "visible": [
               false,
               false,
               false,
               false,
               false,
               false,
               false,
               false,
               false,
               false,
               false,
               false,
               false,
               false,
               false,
               false,
               true,
               false,
               false,
               false,
               false,
               false
              ]
             },
             {
              "title": "Average Train Delay: Year 2023 - Week 26"
             }
            ],
            "label": "Year 2023 - Week 26",
            "method": "update"
           },
           {
            "args": [
             {
              "visible": [
               false,
               false,
               false,
               false,
               false,
               false,
               false,
               false,
               false,
               false,
               false,
               false,
               false,
               false,
               false,
               false,
               false,
               true,
               false,
               false,
               false,
               false
              ]
             },
             {
              "title": "Average Train Delay: Year 2023 - Week 52"
             }
            ],
            "label": "Year 2023 - Week 52",
            "method": "update"
           },
           {
            "args": [
             {
              "visible": [
               false,
               false,
               false,
               false,
               false,
               false,
               false,
               false,
               false,
               false,
               false,
               false,
               false,
               false,
               false,
               false,
               false,
               false,
               true,
               false,
               false,
               false
              ]
             },
             {
              "title": "Average Train Delay: Year 2024 - Week 1"
             }
            ],
            "label": "Year 2024 - Week 1",
            "method": "update"
           },
           {
            "args": [
             {
              "visible": [
               false,
               false,
               false,
               false,
               false,
               false,
               false,
               false,
               false,
               false,
               false,
               false,
               false,
               false,
               false,
               false,
               false,
               false,
               false,
               true,
               false,
               false
              ]
             },
             {
              "title": "Average Train Delay: Year 2024 - Week 22"
             }
            ],
            "label": "Year 2024 - Week 22",
            "method": "update"
           },
           {
            "args": [
             {
              "visible": [
               false,
               false,
               false,
               false,
               false,
               false,
               false,
               false,
               false,
               false,
               false,
               false,
               false,
               false,
               false,
               false,
               false,
               false,
               false,
               false,
               true,
               false
              ]
             },
             {
              "title": "Average Train Delay: Year 2025 - Week 1"
             }
            ],
            "label": "Year 2025 - Week 1",
            "method": "update"
           },
           {
            "args": [
             {
              "visible": [
               false,
               false,
               false,
               false,
               false,
               false,
               false,
               false,
               false,
               false,
               false,
               false,
               false,
               false,
               false,
               false,
               false,
               false,
               false,
               false,
               false,
               true
              ]
             },
             {
              "title": "Average Train Delay: Year 2025 - Week 14"
             }
            ],
            "label": "Year 2025 - Week 14",
            "method": "update"
           }
          ],
          "x": 1.2,
          "y": 0.5
         }
        ],
        "width": 1000,
        "xaxis": {
         "title": {
          "text": "Destination"
         }
        },
        "yaxis": {
         "title": {
          "text": "Source"
         }
        }
       }
      }
     },
     "metadata": {},
     "output_type": "display_data"
    }
   ],
   "source": [
    "import plotly.graph_objects as go\n",
    "import pandas as pd\n",
    "\n",
    "# -----------------------------\n",
    "# 1️⃣ Prepare Data\n",
    "# -----------------------------\n",
    "df['Date'] = pd.to_datetime(df['Date'])\n",
    "df['Year'] = df['Date'].dt.year\n",
    "df['Week'] = df['Date'].dt.isocalendar().week\n",
    "\n",
    "# Top 10 Sources & Destinations overall\n",
    "top_sources = df.groupby('Source')['Calc_delay_min'].mean().sort_values(ascending=False).head(10).index\n",
    "top_destinations = df.groupby('Destination')['Calc_delay_min'].mean().sort_values(ascending=False).head(10).index\n",
    "\n",
    "df_filtered = df[df['Source'].isin(top_sources) & df['Destination'].isin(top_destinations)]\n",
    "\n",
    "# -----------------------------\n",
    "# 2️⃣ Prepare heatmaps for all Year-Week combos\n",
    "# -----------------------------\n",
    "year_week_combos = sorted(df_filtered[['Year','Week']].drop_duplicates().values.tolist())\n",
    "heatmaps = []\n",
    "\n",
    "for year, week in year_week_combos:\n",
    "    pivot = df_filtered[(df_filtered['Year']==year) & (df_filtered['Week']==week)].pivot_table(\n",
    "        values='Calc_delay_min', index='Source', columns='Destination', aggfunc='mean'\n",
    "    ).reindex(index=top_sources, columns=top_destinations)\n",
    "    \n",
    "    heatmaps.append(go.Heatmap(\n",
    "        z=pivot.values,\n",
    "        x=pivot.columns,\n",
    "        y=pivot.index,\n",
    "        colorscale='Reds',\n",
    "        zmin=df_filtered['Calc_delay_min'].min(),\n",
    "        zmax=df_filtered['Calc_delay_min'].max(),\n",
    "        visible=False,\n",
    "        colorbar=dict(title=\"Avg Delay\")\n",
    "    ))\n",
    "\n",
    "# Make first combination visible\n",
    "heatmaps[0].visible = True\n",
    "\n",
    "# -----------------------------\n",
    "# 3️⃣ Create Dropdown Buttons\n",
    "# -----------------------------\n",
    "buttons = []\n",
    "for i, (year, week) in enumerate(year_week_combos):\n",
    "    visibility = [False]*len(heatmaps)\n",
    "    visibility[i] = True\n",
    "    buttons.append(dict(\n",
    "        label=f\"Year {year} - Week {week}\",\n",
    "        method=\"update\",\n",
    "        args=[{\"visible\": visibility},\n",
    "              {\"title\": f\"Average Train Delay: Year {year} - Week {week}\"}]\n",
    "    ))\n",
    "\n",
    "# -----------------------------\n",
    "# 4️⃣ Create Figure\n",
    "# -----------------------------\n",
    "fig = go.Figure(data=heatmaps)\n",
    "fig.update_layout(\n",
    "    updatemenus=[dict(active=0, buttons=buttons, x=1.2, y=0.5)],\n",
    "    title=f\"Average Train Delay: Year {year_week_combos[0][0]} - Week {year_week_combos[0][1]}\",\n",
    "    xaxis_title=\"Destination\",\n",
    "    yaxis_title=\"Source\",\n",
    "    width=1000,\n",
    "    height=700\n",
    ")\n",
    "\n",
    "fig.show()\n"
   ]
  },
  {
   "cell_type": "code",
   "execution_count": 48,
   "id": "f066a588",
   "metadata": {},
   "outputs": [
    {
     "data": {
      "application/vnd.plotly.v1+json": {
       "config": {
        "plotlyServerURL": "https://plot.ly"
       },
       "data": [
        {
         "marker": {
          "color": "royalblue"
         },
         "type": "bar",
         "x": [
          "0-30 min",
          "30-60 min",
          "60+ min"
         ],
         "xaxis": "x",
         "y": {
          "bdata": "NhgW",
          "dtype": "i1"
         },
         "yaxis": "y"
        },
        {
         "line": {
          "color": "green"
         },
         "mode": "lines+markers",
         "type": "scatter",
         "x": {
          "bdata": "4AcAAOEHAADiBwAA4wcAAOQHAADlBwAA5gcAAOcHAADoBwAA6QcAAA==",
          "dtype": "i4"
         },
         "xaxis": "x2",
         "y": {
          "bdata": "mpmZmZkZOkBmZmZmZuZBQJqZmZmZmUhAzczMzMxMM0AzMzMzM7MyQJqZmZmZGThAzczMzMzMREDNzMzMzAxQQAAAAAAAQEdAZmZmZmZmQ0A=",
          "dtype": "f8"
         },
         "yaxis": "y2"
        },
        {
         "marker": {
          "color": "orange"
         },
         "type": "bar",
         "x": [
          "Monday",
          "Tuesday",
          "Wednesday",
          "Thursday",
          "Friday",
          "Saturday",
          "Sunday"
         ],
         "xaxis": "x3",
         "y": {
          "bdata": "GIZhGIZhR0CMLrrooos3QAAAAAAAgDlAAAAAAAAAFEC1tLS0tLQ5QBQ7sRM7sUVADw8PDw8PSkA=",
          "dtype": "f8"
         },
         "yaxis": "y3"
        },
        {
         "colorbar": {
          "title": {
           "text": "Avg Delay"
          }
         },
         "colorscale": [
          [
           0,
           "rgb(255,245,240)"
          ],
          [
           0.125,
           "rgb(254,224,210)"
          ],
          [
           0.25,
           "rgb(252,187,161)"
          ],
          [
           0.375,
           "rgb(252,146,114)"
          ],
          [
           0.5,
           "rgb(251,106,74)"
          ],
          [
           0.625,
           "rgb(239,59,44)"
          ],
          [
           0.75,
           "rgb(203,24,29)"
          ],
          [
           0.875,
           "rgb(165,15,21)"
          ],
          [
           1,
           "rgb(103,0,13)"
          ]
         ],
         "type": "heatmap",
         "x": [
          "Howrah",
          "Pune",
          "Jammu",
          "RANI KAMLAPATI ",
          "Chennai ",
          " New Delhi",
          "Kanyakumari"
         ],
         "xaxis": "x4",
         "y": [
          "Yesvantpur Jn",
          "Gorakhpur",
          "Varanasi",
          " New Delhi",
          "Howrah",
          "Mumbai",
          " Kolkata",
          "Chennai Egmore",
          "Lucknow",
          "Dibrugarh"
         ],
         "yaxis": "y4",
         "z": {
          "bdata": "AAAAAAAA+H8AAAAAAAD4fwAAAAAAAPh/AAAAAAAA+H8AAAAAAAD4fwAAAAAAAPh/AAAAAAAA+H8AAAAAAAD4fwAAAAAAAFRAAAAAAAAA+H8AAAAAAAD4fwAAAAAAAPh/AAAAAAAA+H8AAAAAAAD4fwAAAAAAAPh/AAAAAAAA+H8AAAAAAAD4fwAAAAAAAPh/AAAAAAAA+H8AAAAAAAD4fwAAAAAAAPh/AAAAAAAA+H8AAAAAAAD4fwAAAAAAAPh/AAAAAAAA+H8AAAAAAAD4fwAAAAAAAPh/AAAAAAAA+H8AAAAAAAD4fwAAAAAAAPh/AAAAAAAA+H8AAAAAAAD4fwAAAAAAAPh/AAAAAAAA+H8AAAAAAAD4fwAAAAAAAPh/AAAAAAAA+H8AAAAAAAD4fwAAAAAAAPh/AAAAAAAA+H8AAAAAAAD4fwAAAAAAAPh/AAAAAAAA+H8AAAAAAAD4fwAAAAAAAPh/AAAAAAAA+H8AAAAAAAD4fwAAAAAAAPh/AAAAAAAA+H8AAAAAAAD4fwAAAAAAAPh/AAAAAAAA+H8AAAAAAAD4fwAAAAAAAPh/AAAAAAAA+H8AAAAAAAD4fwAAAAAAAPh/AAAAAAAA+H8AAAAAAAD4fwAAAAAAAPh/AAAAAAAA+H8AAAAAAAD4fwAAAAAAAPh/AAAAAAAA+H8AAAAAAAD4fwAAAAAAAPh/AAAAAAAA+H8AAAAAAAD4fwAAAAAAAPh/AAAAAAAA+H8=",
          "dtype": "f8",
          "shape": "10, 7"
         }
        }
       ],
       "layout": {
        "annotations": [
         {
          "font": {
           "size": 16
          },
          "showarrow": false,
          "text": "Category-wise Delay",
          "x": 0.225,
          "xanchor": "center",
          "xref": "paper",
          "y": 1,
          "yanchor": "bottom",
          "yref": "paper"
         },
         {
          "font": {
           "size": 16
          },
          "showarrow": false,
          "text": "Yearly Average Delay",
          "x": 0.775,
          "xanchor": "center",
          "xref": "paper",
          "y": 1,
          "yanchor": "bottom",
          "yref": "paper"
         },
         {
          "font": {
           "size": 16
          },
          "showarrow": false,
          "text": "Weekday-wise Average Delay",
          "x": 0.225,
          "xanchor": "center",
          "xref": "paper",
          "y": 0.375,
          "yanchor": "bottom",
          "yref": "paper"
         },
         {
          "font": {
           "size": 16
          },
          "showarrow": false,
          "text": "Source→Destination Heatmap",
          "x": 0.775,
          "xanchor": "center",
          "xref": "paper",
          "y": 0.375,
          "yanchor": "bottom",
          "yref": "paper"
         }
        ],
        "height": 900,
        "showlegend": false,
        "template": {
         "data": {
          "bar": [
           {
            "error_x": {
             "color": "#2a3f5f"
            },
            "error_y": {
             "color": "#2a3f5f"
            },
            "marker": {
             "line": {
              "color": "#E5ECF6",
              "width": 0.5
             },
             "pattern": {
              "fillmode": "overlay",
              "size": 10,
              "solidity": 0.2
             }
            },
            "type": "bar"
           }
          ],
          "barpolar": [
           {
            "marker": {
             "line": {
              "color": "#E5ECF6",
              "width": 0.5
             },
             "pattern": {
              "fillmode": "overlay",
              "size": 10,
              "solidity": 0.2
             }
            },
            "type": "barpolar"
           }
          ],
          "carpet": [
           {
            "aaxis": {
             "endlinecolor": "#2a3f5f",
             "gridcolor": "white",
             "linecolor": "white",
             "minorgridcolor": "white",
             "startlinecolor": "#2a3f5f"
            },
            "baxis": {
             "endlinecolor": "#2a3f5f",
             "gridcolor": "white",
             "linecolor": "white",
             "minorgridcolor": "white",
             "startlinecolor": "#2a3f5f"
            },
            "type": "carpet"
           }
          ],
          "choropleth": [
           {
            "colorbar": {
             "outlinewidth": 0,
             "ticks": ""
            },
            "type": "choropleth"
           }
          ],
          "contour": [
           {
            "colorbar": {
             "outlinewidth": 0,
             "ticks": ""
            },
            "colorscale": [
             [
              0,
              "#0d0887"
             ],
             [
              0.1111111111111111,
              "#46039f"
             ],
             [
              0.2222222222222222,
              "#7201a8"
             ],
             [
              0.3333333333333333,
              "#9c179e"
             ],
             [
              0.4444444444444444,
              "#bd3786"
             ],
             [
              0.5555555555555556,
              "#d8576b"
             ],
             [
              0.6666666666666666,
              "#ed7953"
             ],
             [
              0.7777777777777778,
              "#fb9f3a"
             ],
             [
              0.8888888888888888,
              "#fdca26"
             ],
             [
              1,
              "#f0f921"
             ]
            ],
            "type": "contour"
           }
          ],
          "contourcarpet": [
           {
            "colorbar": {
             "outlinewidth": 0,
             "ticks": ""
            },
            "type": "contourcarpet"
           }
          ],
          "heatmap": [
           {
            "colorbar": {
             "outlinewidth": 0,
             "ticks": ""
            },
            "colorscale": [
             [
              0,
              "#0d0887"
             ],
             [
              0.1111111111111111,
              "#46039f"
             ],
             [
              0.2222222222222222,
              "#7201a8"
             ],
             [
              0.3333333333333333,
              "#9c179e"
             ],
             [
              0.4444444444444444,
              "#bd3786"
             ],
             [
              0.5555555555555556,
              "#d8576b"
             ],
             [
              0.6666666666666666,
              "#ed7953"
             ],
             [
              0.7777777777777778,
              "#fb9f3a"
             ],
             [
              0.8888888888888888,
              "#fdca26"
             ],
             [
              1,
              "#f0f921"
             ]
            ],
            "type": "heatmap"
           }
          ],
          "histogram": [
           {
            "marker": {
             "pattern": {
              "fillmode": "overlay",
              "size": 10,
              "solidity": 0.2
             }
            },
            "type": "histogram"
           }
          ],
          "histogram2d": [
           {
            "colorbar": {
             "outlinewidth": 0,
             "ticks": ""
            },
            "colorscale": [
             [
              0,
              "#0d0887"
             ],
             [
              0.1111111111111111,
              "#46039f"
             ],
             [
              0.2222222222222222,
              "#7201a8"
             ],
             [
              0.3333333333333333,
              "#9c179e"
             ],
             [
              0.4444444444444444,
              "#bd3786"
             ],
             [
              0.5555555555555556,
              "#d8576b"
             ],
             [
              0.6666666666666666,
              "#ed7953"
             ],
             [
              0.7777777777777778,
              "#fb9f3a"
             ],
             [
              0.8888888888888888,
              "#fdca26"
             ],
             [
              1,
              "#f0f921"
             ]
            ],
            "type": "histogram2d"
           }
          ],
          "histogram2dcontour": [
           {
            "colorbar": {
             "outlinewidth": 0,
             "ticks": ""
            },
            "colorscale": [
             [
              0,
              "#0d0887"
             ],
             [
              0.1111111111111111,
              "#46039f"
             ],
             [
              0.2222222222222222,
              "#7201a8"
             ],
             [
              0.3333333333333333,
              "#9c179e"
             ],
             [
              0.4444444444444444,
              "#bd3786"
             ],
             [
              0.5555555555555556,
              "#d8576b"
             ],
             [
              0.6666666666666666,
              "#ed7953"
             ],
             [
              0.7777777777777778,
              "#fb9f3a"
             ],
             [
              0.8888888888888888,
              "#fdca26"
             ],
             [
              1,
              "#f0f921"
             ]
            ],
            "type": "histogram2dcontour"
           }
          ],
          "mesh3d": [
           {
            "colorbar": {
             "outlinewidth": 0,
             "ticks": ""
            },
            "type": "mesh3d"
           }
          ],
          "parcoords": [
           {
            "line": {
             "colorbar": {
              "outlinewidth": 0,
              "ticks": ""
             }
            },
            "type": "parcoords"
           }
          ],
          "pie": [
           {
            "automargin": true,
            "type": "pie"
           }
          ],
          "scatter": [
           {
            "fillpattern": {
             "fillmode": "overlay",
             "size": 10,
             "solidity": 0.2
            },
            "type": "scatter"
           }
          ],
          "scatter3d": [
           {
            "line": {
             "colorbar": {
              "outlinewidth": 0,
              "ticks": ""
             }
            },
            "marker": {
             "colorbar": {
              "outlinewidth": 0,
              "ticks": ""
             }
            },
            "type": "scatter3d"
           }
          ],
          "scattercarpet": [
           {
            "marker": {
             "colorbar": {
              "outlinewidth": 0,
              "ticks": ""
             }
            },
            "type": "scattercarpet"
           }
          ],
          "scattergeo": [
           {
            "marker": {
             "colorbar": {
              "outlinewidth": 0,
              "ticks": ""
             }
            },
            "type": "scattergeo"
           }
          ],
          "scattergl": [
           {
            "marker": {
             "colorbar": {
              "outlinewidth": 0,
              "ticks": ""
             }
            },
            "type": "scattergl"
           }
          ],
          "scattermap": [
           {
            "marker": {
             "colorbar": {
              "outlinewidth": 0,
              "ticks": ""
             }
            },
            "type": "scattermap"
           }
          ],
          "scattermapbox": [
           {
            "marker": {
             "colorbar": {
              "outlinewidth": 0,
              "ticks": ""
             }
            },
            "type": "scattermapbox"
           }
          ],
          "scatterpolar": [
           {
            "marker": {
             "colorbar": {
              "outlinewidth": 0,
              "ticks": ""
             }
            },
            "type": "scatterpolar"
           }
          ],
          "scatterpolargl": [
           {
            "marker": {
             "colorbar": {
              "outlinewidth": 0,
              "ticks": ""
             }
            },
            "type": "scatterpolargl"
           }
          ],
          "scatterternary": [
           {
            "marker": {
             "colorbar": {
              "outlinewidth": 0,
              "ticks": ""
             }
            },
            "type": "scatterternary"
           }
          ],
          "surface": [
           {
            "colorbar": {
             "outlinewidth": 0,
             "ticks": ""
            },
            "colorscale": [
             [
              0,
              "#0d0887"
             ],
             [
              0.1111111111111111,
              "#46039f"
             ],
             [
              0.2222222222222222,
              "#7201a8"
             ],
             [
              0.3333333333333333,
              "#9c179e"
             ],
             [
              0.4444444444444444,
              "#bd3786"
             ],
             [
              0.5555555555555556,
              "#d8576b"
             ],
             [
              0.6666666666666666,
              "#ed7953"
             ],
             [
              0.7777777777777778,
              "#fb9f3a"
             ],
             [
              0.8888888888888888,
              "#fdca26"
             ],
             [
              1,
              "#f0f921"
             ]
            ],
            "type": "surface"
           }
          ],
          "table": [
           {
            "cells": {
             "fill": {
              "color": "#EBF0F8"
             },
             "line": {
              "color": "white"
             }
            },
            "header": {
             "fill": {
              "color": "#C8D4E3"
             },
             "line": {
              "color": "white"
             }
            },
            "type": "table"
           }
          ]
         },
         "layout": {
          "annotationdefaults": {
           "arrowcolor": "#2a3f5f",
           "arrowhead": 0,
           "arrowwidth": 1
          },
          "autotypenumbers": "strict",
          "coloraxis": {
           "colorbar": {
            "outlinewidth": 0,
            "ticks": ""
           }
          },
          "colorscale": {
           "diverging": [
            [
             0,
             "#8e0152"
            ],
            [
             0.1,
             "#c51b7d"
            ],
            [
             0.2,
             "#de77ae"
            ],
            [
             0.3,
             "#f1b6da"
            ],
            [
             0.4,
             "#fde0ef"
            ],
            [
             0.5,
             "#f7f7f7"
            ],
            [
             0.6,
             "#e6f5d0"
            ],
            [
             0.7,
             "#b8e186"
            ],
            [
             0.8,
             "#7fbc41"
            ],
            [
             0.9,
             "#4d9221"
            ],
            [
             1,
             "#276419"
            ]
           ],
           "sequential": [
            [
             0,
             "#0d0887"
            ],
            [
             0.1111111111111111,
             "#46039f"
            ],
            [
             0.2222222222222222,
             "#7201a8"
            ],
            [
             0.3333333333333333,
             "#9c179e"
            ],
            [
             0.4444444444444444,
             "#bd3786"
            ],
            [
             0.5555555555555556,
             "#d8576b"
            ],
            [
             0.6666666666666666,
             "#ed7953"
            ],
            [
             0.7777777777777778,
             "#fb9f3a"
            ],
            [
             0.8888888888888888,
             "#fdca26"
            ],
            [
             1,
             "#f0f921"
            ]
           ],
           "sequentialminus": [
            [
             0,
             "#0d0887"
            ],
            [
             0.1111111111111111,
             "#46039f"
            ],
            [
             0.2222222222222222,
             "#7201a8"
            ],
            [
             0.3333333333333333,
             "#9c179e"
            ],
            [
             0.4444444444444444,
             "#bd3786"
            ],
            [
             0.5555555555555556,
             "#d8576b"
            ],
            [
             0.6666666666666666,
             "#ed7953"
            ],
            [
             0.7777777777777778,
             "#fb9f3a"
            ],
            [
             0.8888888888888888,
             "#fdca26"
            ],
            [
             1,
             "#f0f921"
            ]
           ]
          },
          "colorway": [
           "#636efa",
           "#EF553B",
           "#00cc96",
           "#ab63fa",
           "#FFA15A",
           "#19d3f3",
           "#FF6692",
           "#B6E880",
           "#FF97FF",
           "#FECB52"
          ],
          "font": {
           "color": "#2a3f5f"
          },
          "geo": {
           "bgcolor": "white",
           "lakecolor": "white",
           "landcolor": "#E5ECF6",
           "showlakes": true,
           "showland": true,
           "subunitcolor": "white"
          },
          "hoverlabel": {
           "align": "left"
          },
          "hovermode": "closest",
          "mapbox": {
           "style": "light"
          },
          "paper_bgcolor": "white",
          "plot_bgcolor": "#E5ECF6",
          "polar": {
           "angularaxis": {
            "gridcolor": "white",
            "linecolor": "white",
            "ticks": ""
           },
           "bgcolor": "#E5ECF6",
           "radialaxis": {
            "gridcolor": "white",
            "linecolor": "white",
            "ticks": ""
           }
          },
          "scene": {
           "xaxis": {
            "backgroundcolor": "#E5ECF6",
            "gridcolor": "white",
            "gridwidth": 2,
            "linecolor": "white",
            "showbackground": true,
            "ticks": "",
            "zerolinecolor": "white"
           },
           "yaxis": {
            "backgroundcolor": "#E5ECF6",
            "gridcolor": "white",
            "gridwidth": 2,
            "linecolor": "white",
            "showbackground": true,
            "ticks": "",
            "zerolinecolor": "white"
           },
           "zaxis": {
            "backgroundcolor": "#E5ECF6",
            "gridcolor": "white",
            "gridwidth": 2,
            "linecolor": "white",
            "showbackground": true,
            "ticks": "",
            "zerolinecolor": "white"
           }
          },
          "shapedefaults": {
           "line": {
            "color": "#2a3f5f"
           }
          },
          "ternary": {
           "aaxis": {
            "gridcolor": "white",
            "linecolor": "white",
            "ticks": ""
           },
           "baxis": {
            "gridcolor": "white",
            "linecolor": "white",
            "ticks": ""
           },
           "bgcolor": "#E5ECF6",
           "caxis": {
            "gridcolor": "white",
            "linecolor": "white",
            "ticks": ""
           }
          },
          "title": {
           "x": 0.05
          },
          "xaxis": {
           "automargin": true,
           "gridcolor": "white",
           "linecolor": "white",
           "ticks": "",
           "title": {
            "standoff": 15
           },
           "zerolinecolor": "white",
           "zerolinewidth": 2
          },
          "yaxis": {
           "automargin": true,
           "gridcolor": "white",
           "linecolor": "white",
           "ticks": "",
           "title": {
            "standoff": 15
           },
           "zerolinecolor": "white",
           "zerolinewidth": 2
          }
         }
        },
        "title": {
         "text": "Train Delay Dashboard"
        },
        "updatemenus": [
         {
          "active": 0,
          "buttons": [
           {
            "args": [
             {
              "z": [
               [
                [
                 null,
                 null,
                 null,
                 null,
                 null,
                 null,
                 null
                ],
                [
                 null,
                 80,
                 null,
                 null,
                 null,
                 null,
                 null
                ],
                [
                 null,
                 null,
                 null,
                 null,
                 null,
                 null,
                 null
                ],
                [
                 null,
                 null,
                 null,
                 null,
                 null,
                 null,
                 null
                ],
                [
                 null,
                 null,
                 null,
                 null,
                 null,
                 null,
                 null
                ],
                [
                 null,
                 null,
                 null,
                 null,
                 null,
                 null,
                 null
                ],
                [
                 null,
                 null,
                 null,
                 null,
                 null,
                 null,
                 null
                ],
                [
                 null,
                 null,
                 null,
                 null,
                 null,
                 null,
                 null
                ],
                [
                 null,
                 null,
                 null,
                 null,
                 null,
                 null,
                 null
                ],
                [
                 null,
                 null,
                 null,
                 null,
                 null,
                 null,
                 null
                ]
               ]
              ]
             },
             [
              3
             ]
            ],
            "label": "Year 2016 - Week 5",
            "method": "restyle"
           },
           {
            "args": [
             {
              "z": [
               [
                [
                 30,
                 null,
                 null,
                 null,
                 null,
                 null,
                 null
                ],
                [
                 null,
                 null,
                 null,
                 null,
                 null,
                 null,
                 null
                ],
                [
                 null,
                 null,
                 75,
                 null,
                 null,
                 null,
                 null
                ],
                [
                 null,
                 null,
                 null,
                 10,
                 null,
                 null,
                 null
                ],
                [
                 null,
                 null,
                 null,
                 null,
                 null,
                 20,
                 null
                ],
                [
                 null,
                 null,
                 null,
                 null,
                 20,
                 null,
                 null
                ],
                [
                 null,
                 null,
                 null,
                 null,
                 null,
                 20,
                 null
                ],
                [
                 null,
                 null,
                 null,
                 null,
                 null,
                 null,
                 0
                ],
                [
                 null,
                 null,
                 null,
                 null,
                 null,
                 1,
                 null
                ],
                [
                 null,
                 null,
                 null,
                 null,
                 null,
                 null,
                 5
                ]
               ]
              ]
             },
             [
              3
             ]
            ],
            "label": "Year 2016 - Week 53",
            "method": "restyle"
           },
           {
            "args": [
             {
              "z": [
               [
                [
                 null,
                 null,
                 null,
                 null,
                 null,
                 null,
                 null
                ],
                [
                 null,
                 45,
                 null,
                 null,
                 null,
                 null,
                 null
                ],
                [
                 null,
                 null,
                 null,
                 null,
                 null,
                 null,
                 null
                ],
                [
                 null,
                 null,
                 null,
                 null,
                 null,
                 null,
                 null
                ],
                [
                 null,
                 null,
                 null,
                 null,
                 null,
                 null,
                 null
                ],
                [
                 null,
                 null,
                 null,
                 null,
                 null,
                 null,
                 null
                ],
                [
                 null,
                 null,
                 null,
                 null,
                 null,
                 null,
                 null
                ],
                [
                 null,
                 null,
                 null,
                 null,
                 null,
                 null,
                 null
                ],
                [
                 null,
                 null,
                 null,
                 null,
                 null,
                 null,
                 null
                ],
                [
                 null,
                 null,
                 null,
                 null,
                 null,
                 null,
                 null
                ]
               ]
              ]
             },
             [
              3
             ]
            ],
            "label": "Year 2017 - Week 26",
            "method": "restyle"
           },
           {
            "args": [
             {
              "z": [
               [
                [
                 9,
                 null,
                 null,
                 null,
                 null,
                 null,
                 null
                ],
                [
                 null,
                 null,
                 null,
                 null,
                 null,
                 null,
                 null
                ],
                [
                 null,
                 null,
                 20,
                 null,
                 null,
                 null,
                 null
                ],
                [
                 null,
                 null,
                 null,
                 70,
                 null,
                 null,
                 null
                ],
                [
                 null,
                 null,
                 null,
                 null,
                 null,
                 40,
                 null
                ],
                [
                 null,
                 null,
                 null,
                 null,
                 45,
                 null,
                 null
                ],
                [
                 null,
                 null,
                 null,
                 null,
                 null,
                 60,
                 null
                ],
                [
                 null,
                 null,
                 null,
                 null,
                 null,
                 null,
                 20
                ],
                [
                 null,
                 null,
                 null,
                 null,
                 null,
                 14,
                 null
                ],
                [
                 null,
                 null,
                 null,
                 null,
                 null,
                 null,
                 35
                ]
               ]
              ]
             },
             [
              3
             ]
            ],
            "label": "Year 2017 - Week 52",
            "method": "restyle"
           },
           {
            "args": [
             {
              "z": [
               [
                [
                 14,
                 null,
                 null,
                 null,
                 null,
                 null,
                 null
                ],
                [
                 null,
                 null,
                 null,
                 null,
                 null,
                 null,
                 null
                ],
                [
                 null,
                 null,
                 90,
                 null,
                 null,
                 null,
                 null
                ],
                [
                 null,
                 null,
                 null,
                 130,
                 null,
                 null,
                 null
                ],
                [
                 null,
                 null,
                 null,
                 null,
                 null,
                 70,
                 null
                ],
                [
                 null,
                 null,
                 null,
                 null,
                 10,
                 null,
                 null
                ],
                [
                 null,
                 null,
                 null,
                 null,
                 null,
                 5,
                 null
                ],
                [
                 null,
                 null,
                 null,
                 null,
                 null,
                 null,
                 40
                ],
                [
                 null,
                 null,
                 null,
                 null,
                 null,
                 45,
                 null
                ],
                [
                 null,
                 null,
                 null,
                 null,
                 null,
                 null,
                 58
                ]
               ]
              ]
             },
             [
              3
             ]
            ],
            "label": "Year 2018 - Week 1",
            "method": "restyle"
           },
           {
            "args": [
             {
              "z": [
               [
                [
                 null,
                 null,
                 null,
                 null,
                 null,
                 null,
                 null
                ],
                [
                 null,
                 30,
                 null,
                 null,
                 null,
                 null,
                 null
                ],
                [
                 null,
                 null,
                 null,
                 null,
                 null,
                 null,
                 null
                ],
                [
                 null,
                 null,
                 null,
                 null,
                 null,
                 null,
                 null
                ],
                [
                 null,
                 null,
                 null,
                 null,
                 null,
                 null,
                 null
                ],
                [
                 null,
                 null,
                 null,
                 null,
                 null,
                 null,
                 null
                ],
                [
                 null,
                 null,
                 null,
                 null,
                 null,
                 null,
                 null
                ],
                [
                 null,
                 null,
                 null,
                 null,
                 null,
                 null,
                 null
                ],
                [
                 null,
                 null,
                 null,
                 null,
                 null,
                 null,
                 null
                ],
                [
                 null,
                 null,
                 null,
                 null,
                 null,
                 null,
                 null
                ]
               ]
              ]
             },
             [
              3
             ]
            ],
            "label": "Year 2018 - Week 22",
            "method": "restyle"
           },
           {
            "args": [
             {
              "z": [
               [
                [
                 20,
                 null,
                 null,
                 null,
                 null,
                 null,
                 null
                ],
                [
                 null,
                 null,
                 null,
                 null,
                 null,
                 null,
                 null
                ],
                [
                 null,
                 null,
                 10,
                 null,
                 null,
                 null,
                 null
                ],
                [
                 null,
                 null,
                 null,
                 25,
                 null,
                 null,
                 null
                ],
                [
                 null,
                 null,
                 null,
                 null,
                 null,
                 5,
                 null
                ],
                [
                 null,
                 null,
                 null,
                 null,
                 25,
                 null,
                 null
                ],
                [
                 null,
                 null,
                 null,
                 null,
                 null,
                 10,
                 null
                ],
                [
                 null,
                 null,
                 null,
                 null,
                 null,
                 null,
                 3
                ],
                [
                 null,
                 null,
                 null,
                 null,
                 null,
                 70,
                 null
                ],
                [
                 null,
                 null,
                 null,
                 null,
                 null,
                 null,
                 15
                ]
               ]
              ]
             },
             [
              3
             ]
            ],
            "label": "Year 2019 - Week 1",
            "method": "restyle"
           },
           {
            "args": [
             {
              "z": [
               [
                [
                 null,
                 null,
                 null,
                 null,
                 null,
                 null,
                 null
                ],
                [
                 null,
                 10,
                 null,
                 null,
                 null,
                 null,
                 null
                ],
                [
                 null,
                 null,
                 null,
                 null,
                 null,
                 null,
                 null
                ],
                [
                 null,
                 null,
                 null,
                 null,
                 null,
                 null,
                 null
                ],
                [
                 null,
                 null,
                 null,
                 null,
                 null,
                 null,
                 null
                ],
                [
                 null,
                 null,
                 null,
                 null,
                 null,
                 null,
                 null
                ],
                [
                 null,
                 null,
                 null,
                 null,
                 null,
                 null,
                 null
                ],
                [
                 null,
                 null,
                 null,
                 null,
                 null,
                 null,
                 null
                ],
                [
                 null,
                 null,
                 null,
                 null,
                 null,
                 null,
                 null
                ],
                [
                 null,
                 null,
                 null,
                 null,
                 null,
                 null,
                 null
                ]
               ]
              ]
             },
             [
              3
             ]
            ],
            "label": "Year 2019 - Week 18",
            "method": "restyle"
           },
           {
            "args": [
             {
              "z": [
               [
                [
                 1,
                 null,
                 null,
                 null,
                 null,
                 null,
                 null
                ],
                [
                 null,
                 null,
                 null,
                 null,
                 null,
                 null,
                 null
                ],
                [
                 null,
                 null,
                 30,
                 null,
                 null,
                 null,
                 null
                ],
                [
                 null,
                 null,
                 null,
                 5,
                 null,
                 null,
                 null
                ],
                [
                 null,
                 null,
                 null,
                 null,
                 null,
                 30,
                 null
                ],
                [
                 null,
                 null,
                 null,
                 null,
                 50,
                 null,
                 null
                ],
                [
                 null,
                 null,
                 null,
                 null,
                 null,
                 20,
                 null
                ],
                [
                 null,
                 null,
                 null,
                 null,
                 null,
                 null,
                 5
                ],
                [
                 null,
                 null,
                 null,
                 null,
                 null,
                 5,
                 null
                ],
                [
                 null,
                 null,
                 null,
                 null,
                 null,
                 null,
                 21
                ]
               ]
              ]
             },
             [
              3
             ]
            ],
            "label": "Year 2020 - Week 1",
            "method": "restyle"
           },
           {
            "args": [
             {
              "z": [
               [
                [
                 null,
                 null,
                 null,
                 null,
                 null,
                 null,
                 null
                ],
                [
                 null,
                 20,
                 null,
                 null,
                 null,
                 null,
                 null
                ],
                [
                 null,
                 null,
                 null,
                 null,
                 null,
                 null,
                 null
                ],
                [
                 null,
                 null,
                 null,
                 null,
                 null,
                 null,
                 null
                ],
                [
                 null,
                 null,
                 null,
                 null,
                 null,
                 null,
                 null
                ],
                [
                 null,
                 null,
                 null,
                 null,
                 null,
                 null,
                 null
                ],
                [
                 null,
                 null,
                 null,
                 null,
                 null,
                 null,
                 null
                ],
                [
                 null,
                 null,
                 null,
                 null,
                 null,
                 null,
                 null
                ],
                [
                 null,
                 null,
                 null,
                 null,
                 null,
                 null,
                 null
                ],
                [
                 null,
                 null,
                 null,
                 null,
                 null,
                 null,
                 null
                ]
               ]
              ]
             },
             [
              3
             ]
            ],
            "label": "Year 2020 - Week 14",
            "method": "restyle"
           },
           {
            "args": [
             {
              "z": [
               [
                [
                 null,
                 null,
                 null,
                 null,
                 null,
                 null,
                 null
                ],
                [
                 null,
                 10,
                 null,
                 null,
                 null,
                 null,
                 null
                ],
                [
                 null,
                 null,
                 null,
                 null,
                 null,
                 null,
                 null
                ],
                [
                 null,
                 null,
                 null,
                 null,
                 null,
                 null,
                 null
                ],
                [
                 null,
                 null,
                 null,
                 null,
                 null,
                 null,
                 null
                ],
                [
                 null,
                 null,
                 null,
                 null,
                 null,
                 null,
                 null
                ],
                [
                 null,
                 null,
                 null,
                 null,
                 null,
                 null,
                 null
                ],
                [
                 null,
                 null,
                 null,
                 null,
                 null,
                 null,
                 null
                ],
                [
                 null,
                 null,
                 null,
                 null,
                 null,
                 null,
                 null
                ],
                [
                 null,
                 null,
                 null,
                 null,
                 null,
                 null,
                 0
                ]
               ]
              ]
             },
             [
              3
             ]
            ],
            "label": "Year 2021 - Week 5",
            "method": "restyle"
           },
           {
            "args": [
             {
              "z": [
               [
                [
                 null,
                 null,
                 null,
                 null,
                 null,
                 null,
                 null
                ],
                [
                 null,
                 null,
                 null,
                 null,
                 null,
                 null,
                 null
                ],
                [
                 null,
                 null,
                 5,
                 null,
                 null,
                 null,
                 null
                ],
                [
                 null,
                 null,
                 null,
                 null,
                 null,
                 null,
                 null
                ],
                [
                 null,
                 null,
                 null,
                 null,
                 null,
                 null,
                 null
                ],
                [
                 null,
                 null,
                 null,
                 null,
                 null,
                 null,
                 null
                ],
                [
                 null,
                 null,
                 null,
                 null,
                 null,
                 null,
                 null
                ],
                [
                 null,
                 null,
                 null,
                 null,
                 null,
                 null,
                 null
                ],
                [
                 null,
                 null,
                 null,
                 null,
                 null,
                 null,
                 null
                ],
                [
                 null,
                 null,
                 null,
                 null,
                 null,
                 null,
                 null
                ]
               ]
              ]
             },
             [
              3
             ]
            ],
            "label": "Year 2021 - Week 26",
            "method": "restyle"
           },
           {
            "args": [
             {
              "z": [
               [
                [
                 0,
                 null,
                 null,
                 null,
                 null,
                 null,
                 null
                ],
                [
                 null,
                 null,
                 null,
                 null,
                 null,
                 null,
                 null
                ],
                [
                 null,
                 null,
                 null,
                 null,
                 null,
                 null,
                 null
                ],
                [
                 null,
                 null,
                 null,
                 45,
                 null,
                 null,
                 null
                ],
                [
                 null,
                 null,
                 null,
                 null,
                 null,
                 50,
                 null
                ],
                [
                 null,
                 null,
                 null,
                 null,
                 30,
                 null,
                 null
                ],
                [
                 null,
                 null,
                 null,
                 null,
                 null,
                 23,
                 null
                ],
                [
                 null,
                 null,
                 null,
                 null,
                 null,
                 null,
                 55
                ],
                [
                 null,
                 null,
                 null,
                 null,
                 null,
                 23,
                 null
                ],
                [
                 null,
                 null,
                 null,
                 null,
                 null,
                 null,
                 null
                ]
               ]
              ]
             },
             [
              3
             ]
            ],
            "label": "Year 2021 - Week 53",
            "method": "restyle"
           },
           {
            "args": [
             {
              "z": [
               [
                [
                 null,
                 null,
                 null,
                 null,
                 null,
                 null,
                 null
                ],
                [
                 null,
                 null,
                 null,
                 null,
                 null,
                 null,
                 null
                ],
                [
                 null,
                 null,
                 null,
                 null,
                 null,
                 null,
                 null
                ],
                [
                 null,
                 null,
                 null,
                 null,
                 null,
                 null,
                 null
                ],
                [
                 null,
                 null,
                 null,
                 null,
                 null,
                 null,
                 null
                ],
                [
                 null,
                 null,
                 null,
                 null,
                 null,
                 null,
                 null
                ],
                [
                 null,
                 null,
                 null,
                 null,
                 null,
                 null,
                 null
                ],
                [
                 null,
                 null,
                 null,
                 null,
                 null,
                 null,
                 null
                ],
                [
                 null,
                 null,
                 null,
                 null,
                 null,
                 null,
                 null
                ],
                [
                 null,
                 null,
                 null,
                 null,
                 null,
                 null,
                 1
                ]
               ]
              ]
             },
             [
              3
             ]
            ],
            "label": "Year 2022 - Week 9",
            "method": "restyle"
           },
           {
            "args": [
             {
              "z": [
               [
                [
                 20,
                 null,
                 null,
                 null,
                 null,
                 null,
                 null
                ],
                [
                 null,
                 120,
                 null,
                 null,
                 null,
                 null,
                 null
                ],
                [
                 null,
                 null,
                 40,
                 null,
                 null,
                 null,
                 null
                ],
                [
                 null,
                 null,
                 null,
                 15,
                 null,
                 null,
                 null
                ],
                [
                 null,
                 null,
                 null,
                 null,
                 null,
                 75,
                 null
                ],
                [
                 null,
                 null,
                 null,
                 null,
                 75,
                 null,
                 null
                ],
                [
                 null,
                 null,
                 null,
                 null,
                 null,
                 11,
                 null
                ],
                [
                 null,
                 null,
                 null,
                 null,
                 null,
                 null,
                 45
                ],
                [
                 null,
                 null,
                 null,
                 null,
                 null,
                 14,
                 null
                ],
                [
                 null,
                 null,
                 null,
                 null,
                 null,
                 null,
                 null
                ]
               ]
              ]
             },
             [
              3
             ]
            ],
            "label": "Year 2022 - Week 52",
            "method": "restyle"
           },
           {
            "args": [
             {
              "z": [
               [
                [
                 null,
                 null,
                 null,
                 null,
                 null,
                 null,
                 null
                ],
                [
                 null,
                 null,
                 null,
                 null,
                 null,
                 null,
                 null
                ],
                [
                 null,
                 null,
                 null,
                 null,
                 null,
                 null,
                 null
                ],
                [
                 null,
                 null,
                 null,
                 null,
                 null,
                 null,
                 null
                ],
                [
                 null,
                 null,
                 null,
                 null,
                 null,
                 null,
                 null
                ],
                [
                 null,
                 null,
                 null,
                 null,
                 null,
                 null,
                 null
                ],
                [
                 null,
                 null,
                 null,
                 null,
                 null,
                 null,
                 null
                ],
                [
                 null,
                 null,
                 null,
                 null,
                 null,
                 null,
                 null
                ],
                [
                 null,
                 null,
                 null,
                 null,
                 null,
                 null,
                 null
                ],
                [
                 null,
                 null,
                 null,
                 null,
                 null,
                 null,
                 9
                ]
               ]
              ]
             },
             [
              3
             ]
            ],
            "label": "Year 2023 - Week 13",
            "method": "restyle"
           },
           {
            "args": [
             {
              "z": [
               [
                [
                 null,
                 null,
                 null,
                 null,
                 null,
                 null,
                 null
                ],
                [
                 null,
                 60,
                 null,
                 null,
                 null,
                 null,
                 null
                ],
                [
                 null,
                 null,
                 null,
                 null,
                 null,
                 null,
                 null
                ],
                [
                 null,
                 null,
                 null,
                 null,
                 null,
                 null,
                 null
                ],
                [
                 null,
                 null,
                 null,
                 null,
                 null,
                 null,
                 null
                ],
                [
                 null,
                 null,
                 null,
                 null,
                 null,
                 null,
                 null
                ],
                [
                 null,
                 null,
                 null,
                 null,
                 null,
                 null,
                 null
                ],
                [
                 null,
                 null,
                 null,
                 null,
                 null,
                 null,
                 null
                ],
                [
                 null,
                 null,
                 null,
                 null,
                 null,
                 null,
                 null
                ],
                [
                 null,
                 null,
                 null,
                 null,
                 null,
                 null,
                 null
                ]
               ]
              ]
             },
             [
              3
             ]
            ],
            "label": "Year 2023 - Week 26",
            "method": "restyle"
           },
           {
            "args": [
             {
              "z": [
               [
                [
                 244,
                 null,
                 null,
                 null,
                 null,
                 null,
                 null
                ],
                [
                 null,
                 null,
                 null,
                 null,
                 null,
                 null,
                 null
                ],
                [
                 null,
                 null,
                 90,
                 null,
                 null,
                 null,
                 null
                ],
                [
                 null,
                 null,
                 null,
                 60,
                 null,
                 null,
                 null
                ],
                [
                 null,
                 null,
                 null,
                 null,
                 null,
                 10,
                 null
                ],
                [
                 null,
                 null,
                 null,
                 null,
                 75,
                 null,
                 null
                ],
                [
                 null,
                 null,
                 null,
                 null,
                 null,
                 0,
                 null
                ],
                [
                 null,
                 null,
                 null,
                 null,
                 null,
                 null,
                 65
                ],
                [
                 null,
                 null,
                 null,
                 null,
                 null,
                 29,
                 null
                ],
                [
                 null,
                 null,
                 null,
                 null,
                 null,
                 null,
                 null
                ]
               ]
              ]
             },
             [
              3
             ]
            ],
            "label": "Year 2023 - Week 52",
            "method": "restyle"
           },
           {
            "args": [
             {
              "z": [
               [
                [
                 188,
                 null,
                 null,
                 null,
                 null,
                 null,
                 null
                ],
                [
                 null,
                 null,
                 null,
                 null,
                 null,
                 null,
                 null
                ],
                [
                 null,
                 null,
                 15,
                 null,
                 null,
                 null,
                 null
                ],
                [
                 null,
                 null,
                 null,
                 20,
                 null,
                 null,
                 null
                ],
                [
                 null,
                 null,
                 null,
                 null,
                 null,
                 60,
                 null
                ],
                [
                 null,
                 null,
                 null,
                 null,
                 5,
                 null,
                 null
                ],
                [
                 null,
                 null,
                 null,
                 null,
                 null,
                 100,
                 null
                ],
                [
                 null,
                 null,
                 null,
                 null,
                 null,
                 null,
                 0
                ],
                [
                 null,
                 null,
                 null,
                 null,
                 null,
                 20,
                 null
                ],
                [
                 null,
                 null,
                 null,
                 null,
                 null,
                 null,
                 22
                ]
               ]
              ]
             },
             [
              3
             ]
            ],
            "label": "Year 2024 - Week 1",
            "method": "restyle"
           },
           {
            "args": [
             {
              "z": [
               [
                [
                 null,
                 null,
                 null,
                 null,
                 null,
                 null,
                 null
                ],
                [
                 null,
                 35,
                 null,
                 null,
                 null,
                 null,
                 null
                ],
                [
                 null,
                 null,
                 null,
                 null,
                 null,
                 null,
                 null
                ],
                [
                 null,
                 null,
                 null,
                 null,
                 null,
                 null,
                 null
                ],
                [
                 null,
                 null,
                 null,
                 null,
                 null,
                 null,
                 null
                ],
                [
                 null,
                 null,
                 null,
                 null,
                 null,
                 null,
                 null
                ],
                [
                 null,
                 null,
                 null,
                 null,
                 null,
                 null,
                 null
                ],
                [
                 null,
                 null,
                 null,
                 null,
                 null,
                 null,
                 null
                ],
                [
                 null,
                 null,
                 null,
                 null,
                 null,
                 null,
                 null
                ],
                [
                 null,
                 null,
                 null,
                 null,
                 null,
                 null,
                 null
                ]
               ]
              ]
             },
             [
              3
             ]
            ],
            "label": "Year 2024 - Week 22",
            "method": "restyle"
           },
           {
            "args": [
             {
              "z": [
               [
                [
                 60,
                 null,
                 null,
                 null,
                 null,
                 null,
                 null
                ],
                [
                 null,
                 null,
                 null,
                 null,
                 null,
                 null,
                 null
                ],
                [
                 null,
                 null,
                 50,
                 null,
                 null,
                 null,
                 null
                ],
                [
                 null,
                 null,
                 null,
                 9,
                 null,
                 null,
                 null
                ],
                [
                 null,
                 null,
                 null,
                 null,
                 null,
                 25,
                 null
                ],
                [
                 null,
                 null,
                 null,
                 null,
                 40,
                 null,
                 null
                ],
                [
                 null,
                 null,
                 null,
                 null,
                 null,
                 25,
                 null
                ],
                [
                 null,
                 null,
                 null,
                 null,
                 null,
                 null,
                 39
                ],
                [
                 null,
                 null,
                 null,
                 null,
                 null,
                 34,
                 null
                ],
                [
                 null,
                 null,
                 null,
                 null,
                 null,
                 null,
                 31
                ]
               ]
              ]
             },
             [
              3
             ]
            ],
            "label": "Year 2025 - Week 1",
            "method": "restyle"
           },
           {
            "args": [
             {
              "z": [
               [
                [
                 null,
                 null,
                 null,
                 null,
                 null,
                 null,
                 null
                ],
                [
                 null,
                 75,
                 null,
                 null,
                 null,
                 null,
                 null
                ],
                [
                 null,
                 null,
                 null,
                 null,
                 null,
                 null,
                 null
                ],
                [
                 null,
                 null,
                 null,
                 null,
                 null,
                 null,
                 null
                ],
                [
                 null,
                 null,
                 null,
                 null,
                 null,
                 null,
                 null
                ],
                [
                 null,
                 null,
                 null,
                 null,
                 null,
                 null,
                 null
                ],
                [
                 null,
                 null,
                 null,
                 null,
                 null,
                 null,
                 null
                ],
                [
                 null,
                 null,
                 null,
                 null,
                 null,
                 null,
                 null
                ],
                [
                 null,
                 null,
                 null,
                 null,
                 null,
                 null,
                 null
                ],
                [
                 null,
                 null,
                 null,
                 null,
                 null,
                 null,
                 null
                ]
               ]
              ]
             },
             [
              3
             ]
            ],
            "label": "Year 2025 - Week 14",
            "method": "restyle"
           }
          ],
          "x": 1.2,
          "y": 0.5
         }
        ],
        "width": 1200,
        "xaxis": {
         "anchor": "y",
         "domain": [
          0,
          0.45
         ]
        },
        "xaxis2": {
         "anchor": "y2",
         "domain": [
          0.55,
          1
         ]
        },
        "xaxis3": {
         "anchor": "y3",
         "domain": [
          0,
          0.45
         ]
        },
        "xaxis4": {
         "anchor": "y4",
         "domain": [
          0.55,
          1
         ]
        },
        "yaxis": {
         "anchor": "x",
         "domain": [
          0.625,
          1
         ]
        },
        "yaxis2": {
         "anchor": "x2",
         "domain": [
          0.625,
          1
         ]
        },
        "yaxis3": {
         "anchor": "x3",
         "domain": [
          0,
          0.375
         ]
        },
        "yaxis4": {
         "anchor": "x4",
         "domain": [
          0,
          0.375
         ]
        }
       }
      }
     },
     "metadata": {},
     "output_type": "display_data"
    }
   ],
   "source": [
    "import pandas as pd\n",
    "import plotly.graph_objects as go\n",
    "import plotly.express as px\n",
    "from plotly.subplots import make_subplots\n",
    "\n",
    "# -----------------------------\n",
    "# 1️⃣ Prepare Data\n",
    "# -----------------------------\n",
    "df['Date'] = pd.to_datetime(df['Date'])\n",
    "df['Year'] = df['Date'].dt.year\n",
    "df['Week'] = df['Date'].dt.isocalendar().week\n",
    "df['Weekday'] = df['Date'].dt.day_name()\n",
    "\n",
    "# Delay Categories\n",
    "bins = [0, 30, 60, df['Calc_delay_min'].max()+1]\n",
    "labels = ['0-30 min', '30-60 min', '60+ min']\n",
    "df['Delay_category'] = pd.cut(df['Calc_delay_min'], bins=bins, labels=labels, right=False)\n",
    "\n",
    "# Top 10 Sources & Destinations overall\n",
    "top_sources = df.groupby('Source')['Calc_delay_min'].mean().sort_values(ascending=False).head(10).index\n",
    "top_destinations = df.groupby('Destination')['Calc_delay_min'].mean().sort_values(ascending=False).head(10).index\n",
    "df_filtered = df[df['Source'].isin(top_sources) & df['Destination'].isin(top_destinations)]\n",
    "\n",
    "# -----------------------------\n",
    "# 2️⃣ Prepare Subplots (2x2)\n",
    "# -----------------------------\n",
    "fig = make_subplots(\n",
    "    rows=2, cols=2,\n",
    "    subplot_titles=(\"Category-wise Delay\", \"Yearly Average Delay\", \"Weekday-wise Average Delay\", \"Source→Destination Heatmap\"),\n",
    "    specs=[[{\"type\": \"bar\"}, {\"type\": \"scatter\"}],\n",
    "           [{\"type\": \"bar\"}, {\"type\": \"heatmap\"}]]\n",
    ")\n",
    "\n",
    "# -----------------------------\n",
    "# 3️⃣ Category-wise Delay\n",
    "# -----------------------------\n",
    "cat_counts = df['Delay_category'].value_counts().sort_index()\n",
    "fig.add_trace(go.Bar(x=cat_counts.index, y=cat_counts.values, marker_color='royalblue'), row=1, col=1)\n",
    "\n",
    "# -----------------------------\n",
    "# 4️⃣ Yearly Trend\n",
    "# -----------------------------\n",
    "year_avg = df.groupby('Year')['Calc_delay_min'].mean()\n",
    "fig.add_trace(go.Scatter(x=year_avg.index, y=year_avg.values, mode='lines+markers', line=dict(color='green')), row=1, col=2)\n",
    "\n",
    "# -----------------------------\n",
    "# 5️⃣ Weekday Trend\n",
    "# -----------------------------\n",
    "weekday_avg = df.groupby('Weekday')['Calc_delay_min'].mean().reindex(['Monday','Tuesday','Wednesday','Thursday','Friday','Saturday','Sunday'])\n",
    "fig.add_trace(go.Bar(x=weekday_avg.index, y=weekday_avg.values, marker_color='orange'), row=2, col=1)\n",
    "\n",
    "# -----------------------------\n",
    "# 6️⃣ Source→Destination Heatmap (First Year-Week)\n",
    "# -----------------------------\n",
    "year_week_combos = sorted(df_filtered[['Year','Week']].drop_duplicates().values.tolist())\n",
    "first_year, first_week = year_week_combos[0]\n",
    "\n",
    "pivot = df_filtered[(df_filtered['Year']==first_year) & (df_filtered['Week']==first_week)].pivot_table(\n",
    "    values='Calc_delay_min', index='Source', columns='Destination', aggfunc='mean'\n",
    ").reindex(index=top_sources, columns=top_destinations)\n",
    "\n",
    "heatmap = go.Heatmap(z=pivot.values, x=pivot.columns, y=pivot.index, colorscale='Reds', colorbar=dict(title=\"Avg Delay\"))\n",
    "fig.add_trace(heatmap, row=2, col=2)\n",
    "\n",
    "# -----------------------------\n",
    "# 7️⃣ Update Layout\n",
    "# -----------------------------\n",
    "fig.update_layout(height=900, width=1200, showlegend=False, title_text=\"Train Delay Dashboard\")\n",
    "\n",
    "# -----------------------------\n",
    "# 8️⃣ Year-Week Dropdown for Heatmap\n",
    "# -----------------------------\n",
    "heatmap_buttons = []\n",
    "for i, (year, week) in enumerate(year_week_combos):\n",
    "    pivot = df_filtered[(df_filtered['Year']==year) & (df_filtered['Week']==week)].pivot_table(\n",
    "        values='Calc_delay_min', index='Source', columns='Destination', aggfunc='mean'\n",
    "    ).reindex(index=top_sources, columns=top_destinations)\n",
    "    \n",
    "    heatmap_buttons.append(dict(\n",
    "        label=f\"Year {year} - Week {week}\",\n",
    "        method=\"restyle\",\n",
    "        args=[{\"z\": [pivot.values]}, [3]],  # Heatmap trace index = 3 (4th trace)\n",
    "    ))\n",
    "\n",
    "fig.update_layout(\n",
    "    updatemenus=[dict(active=0, buttons=heatmap_buttons, x=1.2, y=0.5)]\n",
    ")\n",
    "\n",
    "fig.show()\n"
   ]
  },
  {
   "cell_type": "code",
   "execution_count": 51,
   "id": "f164cee1",
   "metadata": {},
   "outputs": [
    {
     "name": "stdout",
     "output_type": "stream",
     "text": [
      "Train_name\n",
      "Begampura Express                10\n",
      "Gorakhpur-pune Weekly Express    10\n",
      "Rajdhani Express                 10\n",
      "Chennai Express                  10\n",
      "Garib Rath Express               10\n",
      "Shatabdi Express                 10\n",
      "Lucknow Mail                     10\n",
      "Kanyakumari Express              10\n",
      "Yesvantpur–Howrah Express        10\n",
      "Vivek Express                    10\n",
      "Name: count, dtype: int64\n"
     ]
    }
   ],
   "source": [
    "top_trains = df['Train_name'].value_counts().head(10)\n",
    "print(top_trains)\n",
    "\n",
    "#Kaunse trains sabse zyada run hue"
   ]
  },
  {
   "cell_type": "code",
   "execution_count": null,
   "id": "53b34cff",
   "metadata": {},
   "outputs": [
    {
     "name": "stdout",
     "output_type": "stream",
     "text": [
      "Source          Destination    \n",
      "Yesvantpur Jn   Howrah             58.6\n",
      "Gorakhpur       Pune               48.5\n",
      "Varanasi        Jammu              42.5\n",
      " New Delhi      RANI KAMLAPATI     38.9\n",
      "Howrah           New Delhi         38.5\n",
      "Mumbai          Chennai            37.5\n",
      " Kolkata         New Delhi         27.4\n",
      "Chennai Egmore  Kanyakumari        27.2\n",
      "Lucknow          New Delhi         25.5\n",
      "Dibrugarh       Kanyakumari        19.7\n",
      "Name: Calc_delay_min, dtype: float64\n"
     ]
    }
   ],
   "source": [
    "route_delay = df.groupby(['Source','Destination'])['Calc_delay_min'].mean().sort_values(ascending=False).head(10)\n",
    "print(route_delay)\n",
    "#Agar kisi Source → Destination route pe consistently high delay hai."
   ]
  },
  {
   "cell_type": "code",
   "execution_count": 50,
   "id": "07e6eeb8",
   "metadata": {},
   "outputs": [
    {
     "name": "stdout",
     "output_type": "stream",
     "text": [
      "Train_name\n",
      "Yesvantpur–Howrah Express        58.6\n",
      "Gorakhpur-pune Weekly Express    48.5\n",
      "Begampura Express                42.5\n",
      "Shatabdi Express                 38.9\n",
      "Rajdhani Express                 38.5\n",
      "Chennai Express                  37.5\n",
      "Garib Rath Express               27.4\n",
      "Kanyakumari Express              27.2\n",
      "Lucknow Mail                     25.5\n",
      "Vivek Express                    19.7\n",
      "Name: Calc_delay_min, dtype: float64\n"
     ]
    }
   ],
   "source": [
    "train_delay = df.groupby('Train_name')['Calc_delay_min'].mean().sort_values(ascending=False).head(10)\n",
    "print(train_delay)\n",
    "#Kaunse trains hamesha late hoti hain."
   ]
  }
 ],
 "metadata": {
  "kernelspec": {
   "display_name": "Python 3",
   "language": "python",
   "name": "python3"
  },
  "language_info": {
   "codemirror_mode": {
    "name": "ipython",
    "version": 3
   },
   "file_extension": ".py",
   "mimetype": "text/x-python",
   "name": "python",
   "nbconvert_exporter": "python",
   "pygments_lexer": "ipython3",
   "version": "3.11.2"
  }
 },
 "nbformat": 4,
 "nbformat_minor": 5
}
